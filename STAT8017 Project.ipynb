{
 "cells": [
  {
   "cell_type": "markdown",
   "id": "69f8a320-8837-4f5f-a18e-576bb5d81436",
   "metadata": {},
   "source": [
    "# STAT8107 Data Mining Techniques\n",
    "## Group Project\n",
    "\n",
    "**Members (UID):**  \n",
    "TBC"
   ]
  },
  {
   "cell_type": "markdown",
   "id": "f78c31f2-661c-4abe-bd13-a992fea85b5c",
   "metadata": {},
   "source": [
    "# Import modules and configuration"
   ]
  },
  {
   "cell_type": "code",
   "execution_count": 1,
   "id": "e4add046-de89-4ba2-b5e1-7b8b37388a85",
   "metadata": {},
   "outputs": [],
   "source": [
    "import numpy as np\n",
    "import pandas as pd\n",
    "import warnings\n",
    "import matplotlib.pyplot as plt\n",
    "\n",
    "from typing import List\n",
    "\n",
    "pd.set_option('display.max_columns', None)\n",
    "warnings.filterwarnings(\"ignore\")\n",
    "\n",
    "%matplotlib inline"
   ]
  },
  {
   "cell_type": "markdown",
   "id": "416fb4ae-5ff0-419e-be23-bfd11840f4ea",
   "metadata": {},
   "source": [
    "# Functions"
   ]
  },
  {
   "cell_type": "code",
   "execution_count": 59,
   "id": "accee50a-78a3-49c9-bc77-1315736cbaea",
   "metadata": {},
   "outputs": [],
   "source": [
    "def plt_add_labels(x: List[str],\n",
    "                   y: List[int]) -> None:\n",
    "    y_scale = y.mean()/100\n",
    "    for i in range(len(x)):\n",
    "        plt.text(i, y[i]+y_scale, y[i], ha = 'center')\n",
    "\n",
    "def print_missing_val_count(df: pd.DataFrame) -> None:\n",
    "    # Missing value counts\n",
    "    df_na_cnt = df.isnull().sum()\n",
    "    df_record_cnt = df.shape[0]\n",
    "    \n",
    "    # Print the count of missing value for each feature\n",
    "    print(\"The following columns have missing values:\")\n",
    "    for col, na_cnt in zip(df_na_cnt.index, df_na_cnt.values):\n",
    "        if na_cnt > 0:\n",
    "            print(f\"{col} has {na_cnt} ({100*na_cnt/df_record_cnt:0.1f}%) missing value.\")"
   ]
  },
  {
   "cell_type": "markdown",
   "id": "2d172dd8-5baf-4048-b18b-866ba8ccbeab",
   "metadata": {},
   "source": [
    "# Load Data"
   ]
  },
  {
   "cell_type": "code",
   "execution_count": 3,
   "id": "14ea3ed5-4686-4706-a99c-45cca996cdfb",
   "metadata": {},
   "outputs": [],
   "source": [
    "# Read csv files\n",
    "price_train_df = pd.read_csv('trainPrice.csv')\n",
    "price_test_df = pd.read_csv('testPrice.csv')\n",
    "school_df = pd.read_csv('Schools.csv')\n",
    "subway_df = pd.read_csv('Subways.csv')\n",
    "submission_price_df = pd.read_csv('submissionPrice.csv')"
   ]
  },
  {
   "cell_type": "markdown",
   "id": "3c22eff2-2e59-4592-9189-9246d83c08d1",
   "metadata": {},
   "source": [
    "## Input Files adn Their Basic Information"
   ]
  },
  {
   "cell_type": "code",
   "execution_count": 4,
   "id": "80923aab-d459-42c5-bd4a-46e5d9c846a4",
   "metadata": {},
   "outputs": [
    {
     "name": "stdout",
     "output_type": "stream",
     "text": [
      "<class 'pandas.core.frame.DataFrame'>\n",
      "RangeIndex: 1601458 entries, 0 to 1601457\n",
      "Data columns (total 25 columns):\n",
      " #   Column                              Non-Null Count    Dtype  \n",
      "---  ------                              --------------    -----  \n",
      " 0   key                                 1601458 non-null  int64  \n",
      " 1   apartment_id                        1601458 non-null  int64  \n",
      " 2   city                                1601458 non-null  int64  \n",
      " 3   transaction_year_month              1601458 non-null  int64  \n",
      " 4   transaction_date                    1601458 non-null  object \n",
      " 5   year_of_completion                  1601458 non-null  int64  \n",
      " 6   exclusive_use_area                  1601458 non-null  float64\n",
      " 7   floor                               1601458 non-null  int64  \n",
      " 8   latitude                            1601458 non-null  float64\n",
      " 9   longitude                           1601458 non-null  float64\n",
      " 10  address_by_law                      1601458 non-null  int64  \n",
      " 11  total_parking_capacity_in_site      1509645 non-null  float64\n",
      " 12  total_household_count_in_sites      1601458 non-null  int64  \n",
      " 13  apartment_building_count_in_sites   1601458 non-null  int64  \n",
      " 14  tallest_building_in_sites           1601449 non-null  float64\n",
      " 15  lowest_building_in_sites            1601449 non-null  float64\n",
      " 16  heat_type                           1599441 non-null  object \n",
      " 17  heat_fuel                           1591791 non-null  object \n",
      " 18  room_id                             1601458 non-null  int64  \n",
      " 19  supply_area                         1601458 non-null  float64\n",
      " 20  total_household_count_of_area_type  1601458 non-null  int64  \n",
      " 21  room_count                          1600767 non-null  float64\n",
      " 22  bathroom_count                      1600767 non-null  float64\n",
      " 23  front_door_structure                1587566 non-null  object \n",
      " 24  transaction_real_price              1601458 non-null  int64  \n",
      "dtypes: float64(9), int64(12), object(4)\n",
      "memory usage: 305.5+ MB\n"
     ]
    }
   ],
   "source": [
    "price_train_df.info()"
   ]
  },
  {
   "cell_type": "code",
   "execution_count": 5,
   "id": "86d8af34-cbe7-4203-a3f7-797768b4e541",
   "metadata": {
    "scrolled": true
   },
   "outputs": [],
   "source": [
    "# price_train_df.head(10)"
   ]
  },
  {
   "cell_type": "code",
   "execution_count": 6,
   "id": "0c6346a0-75d2-42a4-9294-1e540ba83ad5",
   "metadata": {},
   "outputs": [
    {
     "name": "stdout",
     "output_type": "stream",
     "text": [
      "<class 'pandas.core.frame.DataFrame'>\n",
      "RangeIndex: 3918 entries, 0 to 3917\n",
      "Data columns (total 25 columns):\n",
      " #   Column                              Non-Null Count  Dtype  \n",
      "---  ------                              --------------  -----  \n",
      " 0   key                                 3918 non-null   int64  \n",
      " 1   apartment_id                        3918 non-null   int64  \n",
      " 2   city                                3918 non-null   int64  \n",
      " 3   transaction_year_month              3918 non-null   int64  \n",
      " 4   transaction_date                    3918 non-null   object \n",
      " 5   year_of_completion                  3918 non-null   int64  \n",
      " 6   exclusive_use_area                  3918 non-null   float64\n",
      " 7   floor                               3918 non-null   int64  \n",
      " 8   latitude                            3918 non-null   float64\n",
      " 9   longitude                           3918 non-null   float64\n",
      " 10  address_by_law                      3918 non-null   int64  \n",
      " 11  total_parking_capacity_in_site      3547 non-null   float64\n",
      " 12  total_household_count_in_sites      3918 non-null   int64  \n",
      " 13  apartment_building_count_in_sites   3918 non-null   int64  \n",
      " 14  tallest_building_in_sites           3917 non-null   float64\n",
      " 15  lowest_building_in_sites            3917 non-null   float64\n",
      " 16  heat_type                           3890 non-null   object \n",
      " 17  heat_fuel                           3870 non-null   object \n",
      " 18  room_id                             3918 non-null   int64  \n",
      " 19  supply_area                         3918 non-null   float64\n",
      " 20  total_household_count_of_area_type  3918 non-null   int64  \n",
      " 21  room_count                          3913 non-null   float64\n",
      " 22  bathroom_count                      3913 non-null   float64\n",
      " 23  front_door_structure                3873 non-null   object \n",
      " 24  transaction_real_price              3918 non-null   int64  \n",
      "dtypes: float64(9), int64(12), object(4)\n",
      "memory usage: 765.4+ KB\n"
     ]
    }
   ],
   "source": [
    "price_test_df.info()"
   ]
  },
  {
   "cell_type": "code",
   "execution_count": 7,
   "id": "c7f5708d-1ce9-42cd-97e3-8b94c440a7fc",
   "metadata": {},
   "outputs": [],
   "source": [
    "# price_test_df.head(10)"
   ]
  },
  {
   "cell_type": "code",
   "execution_count": 8,
   "id": "57a21535-1d5e-488a-b130-bb09ff7ab619",
   "metadata": {},
   "outputs": [
    {
     "name": "stdout",
     "output_type": "stream",
     "text": [
      "<class 'pandas.core.frame.DataFrame'>\n",
      "RangeIndex: 1921 entries, 0 to 1920\n",
      "Data columns (total 9 columns):\n",
      " #   Column           Non-Null Count  Dtype  \n",
      "---  ------           --------------  -----  \n",
      " 0   school_code      1921 non-null   object \n",
      " 1   latitude         1921 non-null   float64\n",
      " 2   longitude        1921 non-null   float64\n",
      " 3   school_class     1921 non-null   object \n",
      " 4   operation_type   1921 non-null   object \n",
      " 5   highschool_type  462 non-null    object \n",
      " 6   gender           1921 non-null   object \n",
      " 7   foundation_date  1921 non-null   object \n",
      " 8   address_by_law   1921 non-null   int64  \n",
      "dtypes: float64(2), int64(1), object(6)\n",
      "memory usage: 135.2+ KB\n"
     ]
    }
   ],
   "source": [
    "school_df.info()"
   ]
  },
  {
   "cell_type": "code",
   "execution_count": 9,
   "id": "27a6c651-0057-474f-bccf-ac9cfd3b779a",
   "metadata": {},
   "outputs": [],
   "source": [
    "# school_df.head(10)"
   ]
  },
  {
   "cell_type": "code",
   "execution_count": 10,
   "id": "d23e0a95-fbc6-4cfa-8850-88fa6e2e48ab",
   "metadata": {},
   "outputs": [
    {
     "name": "stdout",
     "output_type": "stream",
     "text": [
      "<class 'pandas.core.frame.DataFrame'>\n",
      "RangeIndex: 405 entries, 0 to 404\n",
      "Data columns (total 5 columns):\n",
      " #   Column          Non-Null Count  Dtype  \n",
      "---  ------          --------------  -----  \n",
      " 0   station_id      405 non-null    int64  \n",
      " 1   latitude        405 non-null    float64\n",
      " 2   longitude       405 non-null    float64\n",
      " 3   subway_line     405 non-null    object \n",
      " 4   address_by_law  396 non-null    float64\n",
      "dtypes: float64(3), int64(1), object(1)\n",
      "memory usage: 15.9+ KB\n"
     ]
    }
   ],
   "source": [
    "subway_df.info()"
   ]
  },
  {
   "cell_type": "code",
   "execution_count": 11,
   "id": "83caf526-2985-4e89-97a6-358c86ceab2f",
   "metadata": {},
   "outputs": [],
   "source": [
    "# subway_df.head(10)"
   ]
  },
  {
   "cell_type": "code",
   "execution_count": 12,
   "id": "ee7434c2-a236-44d6-832d-a893eccbc82b",
   "metadata": {},
   "outputs": [
    {
     "name": "stdout",
     "output_type": "stream",
     "text": [
      "<class 'pandas.core.frame.DataFrame'>\n",
      "RangeIndex: 3918 entries, 0 to 3917\n",
      "Data columns (total 2 columns):\n",
      " #   Column                  Non-Null Count  Dtype\n",
      "---  ------                  --------------  -----\n",
      " 0   key                     3918 non-null   int64\n",
      " 1   transaction_real_price  3918 non-null   int64\n",
      "dtypes: int64(2)\n",
      "memory usage: 61.3 KB\n"
     ]
    }
   ],
   "source": [
    "submission_price_df.info()"
   ]
  },
  {
   "cell_type": "markdown",
   "id": "b5243434-d888-4d78-8159-b68b41efdf2c",
   "metadata": {},
   "source": [
    "# Exploratory Data Analysis (EDA)"
   ]
  },
  {
   "cell_type": "markdown",
   "id": "5e46ad9a-afff-47ce-890d-926ceb918fe6",
   "metadata": {},
   "source": [
    "## Training Set (trainPrice.csv)"
   ]
  },
  {
   "cell_type": "markdown",
   "id": "6e06a458-c832-4d3c-a965-b2f764467fad",
   "metadata": {},
   "source": [
    "## Univariate Analysis"
   ]
  },
  {
   "cell_type": "markdown",
   "id": "2d821037-2f63-4cde-8a74-0c04df4e91ad",
   "metadata": {},
   "source": [
    "## Field - City"
   ]
  },
  {
   "cell_type": "code",
   "execution_count": 13,
   "id": "2df21a65-258c-4c0a-bdb0-db69564e7700",
   "metadata": {},
   "outputs": [
    {
     "data": {
      "text/plain": [
       "[0, 1]"
      ]
     },
     "execution_count": 13,
     "metadata": {},
     "output_type": "execute_result"
    }
   ],
   "source": [
    "# Distinct values\n",
    "price_train_df[\"city\"].drop_duplicates().sort_values().to_list() # There are only 2 distinct values"
   ]
  },
  {
   "cell_type": "code",
   "execution_count": 14,
   "id": "0514d40b-606d-4e88-b058-7c5b3aedce0c",
   "metadata": {},
   "outputs": [
    {
     "data": {
      "text/html": [
       "<div>\n",
       "<style scoped>\n",
       "    .dataframe tbody tr th:only-of-type {\n",
       "        vertical-align: middle;\n",
       "    }\n",
       "\n",
       "    .dataframe tbody tr th {\n",
       "        vertical-align: top;\n",
       "    }\n",
       "\n",
       "    .dataframe thead th {\n",
       "        text-align: right;\n",
       "    }\n",
       "</style>\n",
       "<table border=\"1\" class=\"dataframe\">\n",
       "  <thead>\n",
       "    <tr style=\"text-align: right;\">\n",
       "      <th></th>\n",
       "      <th>latitude</th>\n",
       "      <th>longitude</th>\n",
       "    </tr>\n",
       "  </thead>\n",
       "  <tbody>\n",
       "    <tr>\n",
       "      <th>1491</th>\n",
       "      <td>35.117560</td>\n",
       "      <td>129.011018</td>\n",
       "    </tr>\n",
       "    <tr>\n",
       "      <th>1492</th>\n",
       "      <td>35.118632</td>\n",
       "      <td>129.010886</td>\n",
       "    </tr>\n",
       "    <tr>\n",
       "      <th>1493</th>\n",
       "      <td>35.081732</td>\n",
       "      <td>129.019474</td>\n",
       "    </tr>\n",
       "  </tbody>\n",
       "</table>\n",
       "</div>"
      ],
      "text/plain": [
       "       latitude   longitude\n",
       "1491  35.117560  129.011018\n",
       "1492  35.118632  129.010886\n",
       "1493  35.081732  129.019474"
      ]
     },
     "execution_count": 14,
     "metadata": {},
     "output_type": "execute_result"
    }
   ],
   "source": [
    "# Sample few (latitude, longitude) pairs from records with city = 0\n",
    "price_train_df[price_train_df[\"city\"] == 0][[\"latitude\", \"longitude\"]].head(3)"
   ]
  },
  {
   "cell_type": "code",
   "execution_count": 15,
   "id": "2f39cb13-76ee-4a13-8948-c309e877213b",
   "metadata": {},
   "outputs": [
    {
     "data": {
      "text/html": [
       "<div>\n",
       "<style scoped>\n",
       "    .dataframe tbody tr th:only-of-type {\n",
       "        vertical-align: middle;\n",
       "    }\n",
       "\n",
       "    .dataframe tbody tr th {\n",
       "        vertical-align: top;\n",
       "    }\n",
       "\n",
       "    .dataframe thead th {\n",
       "        text-align: right;\n",
       "    }\n",
       "</style>\n",
       "<table border=\"1\" class=\"dataframe\">\n",
       "  <thead>\n",
       "    <tr style=\"text-align: right;\">\n",
       "      <th></th>\n",
       "      <th>latitude</th>\n",
       "      <th>longitude</th>\n",
       "    </tr>\n",
       "  </thead>\n",
       "  <tbody>\n",
       "    <tr>\n",
       "      <th>0</th>\n",
       "      <td>37.585965</td>\n",
       "      <td>127.000231</td>\n",
       "    </tr>\n",
       "    <tr>\n",
       "      <th>1</th>\n",
       "      <td>37.585965</td>\n",
       "      <td>127.000231</td>\n",
       "    </tr>\n",
       "    <tr>\n",
       "      <th>2</th>\n",
       "      <td>37.580511</td>\n",
       "      <td>127.014016</td>\n",
       "    </tr>\n",
       "  </tbody>\n",
       "</table>\n",
       "</div>"
      ],
      "text/plain": [
       "    latitude   longitude\n",
       "0  37.585965  127.000231\n",
       "1  37.585965  127.000231\n",
       "2  37.580511  127.014016"
      ]
     },
     "execution_count": 15,
     "metadata": {},
     "output_type": "execute_result"
    }
   ],
   "source": [
    "# Sample few (latitude, longitude) pairs from records with city = 1\n",
    "price_train_df[price_train_df[\"city\"] == 1][[\"latitude\", \"longitude\"]].head(3)"
   ]
  },
  {
   "cell_type": "markdown",
   "id": "ea52c23a-47f0-41d1-8622-35755a697e89",
   "metadata": {},
   "source": [
    "## Field - transaction_real_price"
   ]
  },
  {
   "cell_type": "code",
   "execution_count": 16,
   "id": "d27f858a-0811-4da7-afa0-0b63e5f14dd6",
   "metadata": {},
   "outputs": [],
   "source": [
    "# # Histogram of Transaction Real Price\n",
    "# fig, ax = plt.subplots(figsize=(15, 8))\n",
    "# plt.hist(price_train_df[\"transaction_real_price\"]/1000000, bins=100)\n",
    "# plt.title('Histogram of Transaction Real Price')\n",
    "# plt.xlabel('Transaction Real Price (1,000,000)')\n",
    "# plt.ylabel('Count')\n",
    "# plt.show()"
   ]
  },
  {
   "cell_type": "code",
   "execution_count": 17,
   "id": "1e8c7e9c-862c-41b4-ad8b-bbca6a2608e0",
   "metadata": {},
   "outputs": [
    {
     "name": "stdout",
     "output_type": "stream",
     "text": [
      "Maximum transaction price is $8200M\n"
     ]
    }
   ],
   "source": [
    "print(f\"Maximum transaction price is ${int(price_train_df['transaction_real_price'].max()/1000000)}M\")"
   ]
  },
  {
   "cell_type": "markdown",
   "id": "41dd718e-e8ee-41bf-b830-2a66a1f6a601",
   "metadata": {},
   "source": [
    "## Field - transaction_year_month"
   ]
  },
  {
   "cell_type": "code",
   "execution_count": 35,
   "id": "1d9ca795-dcc1-4c77-b56f-8a9bc0fabb7a",
   "metadata": {},
   "outputs": [],
   "source": [
    "# # Bar plot of Transaction Year Month\n",
    "# # Drop missing values (NA) and calculate the counts of each value\n",
    "# val_count = price_train_df[\"transaction_year_month\"].dropna().astype(\"str\").value_counts()\n",
    "# val_count = val_count.sort_index()\n",
    "\n",
    "# val_mean = val_count.mean()\n",
    "\n",
    "# # Draw bar plot\n",
    "# fig, ax = plt.subplots(figsize=(15, 8))\n",
    "# plt.bar(val_count.index, val_count.values)\n",
    "# plt.title('Bar Plot of Transaction Year Month')\n",
    "# plt.xlabel('Transaction Year Month')\n",
    "# plt.ylabel('Count')\n",
    "# plt.xticks(range(len(val_count.index))[::2], val_count.index[::2], rotation=90)\n",
    "# plt.show()\n",
    "\n",
    "# print(f\"The mean of transaction count per month is {val_mean: .2f}.\")"
   ]
  },
  {
   "cell_type": "markdown",
   "id": "e7c69496-b0d1-4299-9008-2ef2d62e8d00",
   "metadata": {},
   "source": [
    "## Fields - total_parking_capacity_in_site, total_household_count_in_sites, room_count and bathroom_count"
   ]
  },
  {
   "cell_type": "code",
   "execution_count": 19,
   "id": "b2e39232-25f6-4563-9e5d-b4c20baac8c5",
   "metadata": {},
   "outputs": [],
   "source": [
    "# # Create a figure and add the axes for subgraphs\n",
    "# fig, axes = plt.subplots(nrows=2, ncols=2, figsize=(12, 8))\n",
    "\n",
    "# # Histogram of Total Parking Capacity\n",
    "# axes[0,0].hist(price_train_df[\"total_parking_capacity_in_site\"], bins=30)\n",
    "# axes[0,0].set(title='Histogram of Total Parking Capacity')\n",
    "# axes[0,0].set_xlabel('Total Parking Capacity')\n",
    "# axes[0,0].set_ylabel('Count')\n",
    "\n",
    "# # Histogram of Total Household Count\n",
    "# axes[0,1].hist(price_train_df[\"total_household_count_in_sites\"], bins=30)\n",
    "# axes[0,1].set(title='Histogram of Total Household Count')\n",
    "# axes[0,1].set_xlabel('Total Household Count')\n",
    "# axes[0,1].set_ylabel('Count')\n",
    "\n",
    "# # # Bar plot of Room Count\n",
    "# val_count = price_train_df[\"room_count\"].dropna().value_counts() / 1000\n",
    "# val_count = val_count.sort_index()\n",
    "# axes[1,0].bar(val_count.index, val_count.values)\n",
    "# axes[1,0].set(title='Bar Plot of Room Count')\n",
    "# axes[1,0].set_xlabel('Room Count')\n",
    "# axes[1,0].set_ylabel('Count (1,000)')\n",
    "\n",
    "# # # Bar plot of Bathroom Count\n",
    "# val_count = price_train_df[\"bathroom_count\"].dropna().value_counts() / 1000\n",
    "# val_count = val_count.sort_index()\n",
    "# axes[1,1].bar(val_count.index, val_count.values)\n",
    "# axes[1,1].set(title='Bar Plot of Bathroom Count')\n",
    "# axes[1,1].set_xlabel('Bathroom Count')\n",
    "# axes[1,1].set_ylabel('Count (1,000)')\n",
    "\n",
    "# plt.tight_layout()\n",
    "# plt.show()"
   ]
  },
  {
   "cell_type": "code",
   "execution_count": 20,
   "id": "82bf7984-62b5-42ff-b152-bc8810fd0b0b",
   "metadata": {},
   "outputs": [
    {
     "name": "stdout",
     "output_type": "stream",
     "text": [
      "The mean of room_count and bathroom_count are 2.95 and 1.59 respectively\n",
      "The mode of room_count and bathroom_count are 3.0 and 2.0 respectively\n"
     ]
    }
   ],
   "source": [
    "print(f\"The mean of room_count and bathroom_count are {price_train_df['room_count'].mean():.2f} and {price_train_df['bathroom_count'].mean():.2f} respectively\")\n",
    "print(f\"The mode of room_count and bathroom_count are {price_train_df['room_count'].mode()[0]} and {price_train_df['bathroom_count'].mode()[0]} respectively\")"
   ]
  },
  {
   "cell_type": "markdown",
   "id": "897a729c-9aad-4442-a8dd-e79ad75cd29a",
   "metadata": {},
   "source": [
    "## Multivariate Analysis"
   ]
  },
  {
   "cell_type": "markdown",
   "id": "6f6d8c7d-e1d8-474a-8bed-778b4cf8bdca",
   "metadata": {},
   "source": [
    "## Fields - city, latitude and longitude"
   ]
  },
  {
   "cell_type": "code",
   "execution_count": 21,
   "id": "f88741ed-24c0-4ffc-9707-0b2349ad3f37",
   "metadata": {},
   "outputs": [],
   "source": [
    "# # Sample 1000 records from each class\n",
    "# price_train_sample = price_train_df.groupby('city').apply(lambda x: x.sample(1000))\n",
    "\n",
    "# # Scatter Plot of Latitude and Longitude with city labels\n",
    "# scatter = plt.scatter(price_train_sample['longitude'], price_train_sample['latitude'], c=price_train_sample['city'], cmap='summer')\n",
    "# plt.title('Latitude and Longitude of City')\n",
    "# plt.xlabel('Longitude')\n",
    "# plt.ylabel('Latitude')\n",
    "# plt.legend(*scatter.legend_elements(), loc='upper right')\n",
    "# plt.show()"
   ]
  },
  {
   "cell_type": "markdown",
   "id": "0bc839aa-2b4e-41be-b6ee-d014493f02ce",
   "metadata": {},
   "source": [
    "## Fields - All Numeric Fields"
   ]
  },
  {
   "cell_type": "code",
   "execution_count": 29,
   "id": "4b76b6b1-d94e-4512-9a81-de09b8d0cc6d",
   "metadata": {},
   "outputs": [],
   "source": [
    "# price_train_df.corr().style.background_gradient(cmap='coolwarm').set_precision(2).set_table_styles([dict(selector=\"th.col_heading\",props=[(\"writing-mode\", \"vertical-rl\")])])"
   ]
  },
  {
   "cell_type": "markdown",
   "id": "fb046a6e-22ab-43e1-a6f1-ed758ae7ef8c",
   "metadata": {},
   "source": [
    "## School Data Set (Schools.csv)"
   ]
  },
  {
   "cell_type": "markdown",
   "id": "2c7ce473-fab6-4327-a357-00c6b2fdf5ea",
   "metadata": {},
   "source": [
    "## Fields - school_class"
   ]
  },
  {
   "cell_type": "code",
   "execution_count": 70,
   "id": "ec88a25b-0753-4334-9459-f33db1f29c01",
   "metadata": {},
   "outputs": [],
   "source": [
    "# # Bar plot of School Class\n",
    "# # Drop missing values (NA) and calculate the counts of each value\n",
    "# val_count = school_df[\"school_class\"].dropna().astype(\"str\").value_counts()\n",
    "\n",
    "# # Draw bar plot\n",
    "# fig, ax = plt.subplots(figsize=(12, 6))\n",
    "# plt.bar(val_count.index, val_count.values)\n",
    "# plt.title('Bar Plot of School Class')\n",
    "# plt.xlabel('School Class')\n",
    "# plt.ylabel('Count')\n",
    "# plt_add_labels(val_count.index, val_count.values)\n",
    "# plt.xticks(range(len(val_count.index)), val_count.index)\n",
    "# plt.show()"
   ]
  },
  {
   "cell_type": "markdown",
   "id": "4b49b632-e1ae-4b96-9c71-acfc373a270e",
   "metadata": {},
   "source": [
    "## Fields - operation_type"
   ]
  },
  {
   "cell_type": "code",
   "execution_count": 74,
   "id": "6ee7b955-fd75-4d3e-a39f-52a710c1b804",
   "metadata": {},
   "outputs": [],
   "source": [
    "# # Bar plot of Operation Type of Schools\n",
    "# # Drop missing values (NA) and calculate the counts of each value\n",
    "# val_count = school_df[\"operation_type\"].dropna().astype(\"str\").value_counts()\n",
    "\n",
    "# # Draw bar plot\n",
    "# fig, ax = plt.subplots(figsize=(12, 6))\n",
    "# plt.bar(val_count.index, val_count.values)\n",
    "# plt.title('Bar Plot of Operation Type of Schools')\n",
    "# plt.xlabel('Operation Type')\n",
    "# plt.ylabel('Count')\n",
    "# plt_add_labels(val_count.index, val_count.values)\n",
    "# plt.xticks(range(len(val_count.index)), val_count.index)\n",
    "# plt.show()"
   ]
  },
  {
   "cell_type": "markdown",
   "id": "4e419631-61ec-4813-acef-fa1eaae9ad64",
   "metadata": {},
   "source": [
    "## Fields - highschool_type"
   ]
  },
  {
   "cell_type": "code",
   "execution_count": 1,
   "id": "ac1489e2-c6ee-47f0-a946-bd822720e04f",
   "metadata": {},
   "outputs": [],
   "source": [
    "# # Bar plot of High School Type\n",
    "# # Drop missing values (NA) and calculate the counts of each value\n",
    "# val_count = school_df[\"highschool_type\"].dropna().astype(\"str\").value_counts()\n",
    "\n",
    "# # Draw bar plot\n",
    "# fig, ax = plt.subplots(figsize=(12, 6))\n",
    "# plt.bar(val_count.index, val_count.values)\n",
    "# plt.title('Bar Plot of High School Type')\n",
    "# plt.xlabel('High School Type')\n",
    "# plt.ylabel('Count')\n",
    "# plt_add_labels(val_count.index, val_count.values)\n",
    "# plt.xticks(range(len(val_count.index)), val_count.index)\n",
    "# plt.show()"
   ]
  },
  {
   "cell_type": "code",
   "execution_count": null,
   "id": "c6238c03-fdab-4b06-b138-c43a0d6e8b81",
   "metadata": {},
   "outputs": [],
   "source": [
    "school_df[\"gender\"].dropna().astype(\"str\").value_counts()"
   ]
  },
  {
   "cell_type": "code",
   "execution_count": null,
   "id": "a89c17d8-bf3d-4aee-b945-8fab713fa7a8",
   "metadata": {},
   "outputs": [],
   "source": []
  },
  {
   "cell_type": "markdown",
   "id": "f5db517c-cbe8-4259-854e-35ebecf06f80",
   "metadata": {},
   "source": [
    "## Subway Data Set (Subways.csv)"
   ]
  },
  {
   "cell_type": "code",
   "execution_count": 23,
   "id": "717293ac-f26e-4a43-8436-a8ad8aa6f4e7",
   "metadata": {},
   "outputs": [
    {
     "name": "stdout",
     "output_type": "stream",
     "text": [
      "['1', '2', '3', '4', '5', '6', '7', '8', '9', 'AP', 'B1', 'B2', 'B3', 'B4', 'BD', 'BK', 'DL', 'KC', 'KJ', 'ND', 'US']\n"
     ]
    }
   ],
   "source": [
    "subway_line_list = []\n",
    "for subway_line in subway_df[\"subway_line\"].drop_duplicates().tolist():\n",
    "    subway_line_list += subway_line.split(\",\")\n",
    "\n",
    "subway_line_list = list(set(subway_line_list))\n",
    "subway_line_list.sort()\n",
    "print(subway_line_list)"
   ]
  },
  {
   "cell_type": "markdown",
   "id": "1ecb637b-7654-47b4-a7a5-09f6ebe428bf",
   "metadata": {},
   "source": [
    "## Fields - latitude and longitude"
   ]
  },
  {
   "cell_type": "code",
   "execution_count": 24,
   "id": "8c0a8a74-9547-4953-970a-51276eb88af2",
   "metadata": {},
   "outputs": [],
   "source": [
    "# # Scatter Plot of Latitude and Longitude with city labels\n",
    "# plt.scatter(school_df['longitude'], school_df['latitude'], color='blue', label='School')\n",
    "# plt.scatter(subway_df['longitude'], subway_df['latitude'], color='green', label='Subway')\n",
    "# plt.title('Latitude and Longitude of Schools and Subways')\n",
    "# plt.xlabel('Longitude')\n",
    "# plt.ylabel('Latitude')\n",
    "# plt.legend(loc='upper right')\n",
    "# plt.show()"
   ]
  },
  {
   "cell_type": "markdown",
   "id": "6c3d2abc-4909-4953-ae22-f85508f33b3b",
   "metadata": {},
   "source": [
    "## Missing Values and Outliers"
   ]
  },
  {
   "cell_type": "code",
   "execution_count": 25,
   "id": "ce41e246-612c-4bba-8859-3cc8d957e310",
   "metadata": {},
   "outputs": [
    {
     "name": "stdout",
     "output_type": "stream",
     "text": [
      "The following columns have missing values:\n",
      "total_parking_capacity_in_site has 91813 (5.7%) missing value.\n",
      "tallest_building_in_sites has 9 (0.0%) missing value.\n",
      "lowest_building_in_sites has 9 (0.0%) missing value.\n",
      "heat_type has 2017 (0.1%) missing value.\n",
      "heat_fuel has 9667 (0.6%) missing value.\n",
      "room_count has 691 (0.0%) missing value.\n",
      "bathroom_count has 691 (0.0%) missing value.\n",
      "front_door_structure has 13892 (0.9%) missing value.\n"
     ]
    }
   ],
   "source": [
    "print_missing_val_count(price_train_df)"
   ]
  },
  {
   "cell_type": "code",
   "execution_count": 31,
   "id": "a008dcaa-7524-4947-ada7-f38215ceb7be",
   "metadata": {},
   "outputs": [
    {
     "name": "stdout",
     "output_type": "stream",
     "text": [
      "The following columns have missing values:\n",
      "highschool_type has 1459 (76.0%) missing value.\n"
     ]
    }
   ],
   "source": [
    "print_missing_val_count(school_df)"
   ]
  },
  {
   "cell_type": "code",
   "execution_count": 28,
   "id": "3bc3838e-0794-46b6-b5e1-67f4e6c2d6c9",
   "metadata": {},
   "outputs": [
    {
     "name": "stdout",
     "output_type": "stream",
     "text": [
      "The following columns have missing values:\n",
      "address_by_law has 9 (2.2%) missing value.\n"
     ]
    }
   ],
   "source": [
    "print_missing_val_count(subway_df)"
   ]
  },
  {
   "cell_type": "code",
   "execution_count": null,
   "id": "637419c3-e6b2-4fd8-b713-6aa83f17d650",
   "metadata": {},
   "outputs": [],
   "source": []
  }
 ],
 "metadata": {
  "kernelspec": {
   "display_name": "Python 3 (ipykernel)",
   "language": "python",
   "name": "python3"
  },
  "language_info": {
   "codemirror_mode": {
    "name": "ipython",
    "version": 3
   },
   "file_extension": ".py",
   "mimetype": "text/x-python",
   "name": "python",
   "nbconvert_exporter": "python",
   "pygments_lexer": "ipython3",
   "version": "3.11.4"
  }
 },
 "nbformat": 4,
 "nbformat_minor": 5
}
