{
 "cells": [
  {
   "cell_type": "markdown",
   "id": "69f8a320-8837-4f5f-a18e-576bb5d81436",
   "metadata": {},
   "source": [
    "# STAT8107 Data Mining Techniques\n",
    "## Group Project\n",
    "\n",
    "**Members (UID):**  \n",
    "TBC"
   ]
  },
  {
   "cell_type": "markdown",
   "id": "f78c31f2-661c-4abe-bd13-a992fea85b5c",
   "metadata": {},
   "source": [
    "## Import Modules"
   ]
  },
  {
   "cell_type": "code",
   "execution_count": 5,
   "id": "e4add046-de89-4ba2-b5e1-7b8b37388a85",
   "metadata": {},
   "outputs": [],
   "source": [
    "import numpy as np\n",
    "import pandas as pd\n",
    "import matplotlib.pyplot as plt"
   ]
  },
  {
   "cell_type": "markdown",
   "id": "2d172dd8-5baf-4048-b18b-866ba8ccbeab",
   "metadata": {},
   "source": [
    "## Load Data"
   ]
  },
  {
   "cell_type": "code",
   "execution_count": 6,
   "id": "14ea3ed5-4686-4706-a99c-45cca996cdfb",
   "metadata": {},
   "outputs": [],
   "source": [
    "# Read csv files\n",
    "houseprice_train_df = pd.read_csv('trainPrice.csv')\n",
    "houseprice_test_df = pd.read_csv('testPrice.csv')\n",
    "subway_df = pd.read_csv('Subways.csv')\n",
    "schools_df = pd.read_csv('Schools.csv')"
   ]
  },
  {
   "cell_type": "markdown",
   "id": "3c22eff2-2e59-4592-9189-9246d83c08d1",
   "metadata": {},
   "source": [
    "## Exploratory Data Analysis (EDA)"
   ]
  },
  {
   "cell_type": "code",
   "execution_count": 12,
   "id": "80923aab-d459-42c5-bd4a-46e5d9c846a4",
   "metadata": {},
   "outputs": [
    {
     "name": "stdout",
     "output_type": "stream",
     "text": [
      "<class 'pandas.core.frame.DataFrame'>\n",
      "RangeIndex: 1601458 entries, 0 to 1601457\n",
      "Data columns (total 25 columns):\n",
      " #   Column                              Non-Null Count    Dtype  \n",
      "---  ------                              --------------    -----  \n",
      " 0   key                                 1601458 non-null  int64  \n",
      " 1   apartment_id                        1601458 non-null  int64  \n",
      " 2   city                                1601458 non-null  int64  \n",
      " 3   transaction_year_month              1601458 non-null  int64  \n",
      " 4   transaction_date                    1601458 non-null  object \n",
      " 5   year_of_completion                  1601458 non-null  int64  \n",
      " 6   exclusive_use_area                  1601458 non-null  float64\n",
      " 7   floor                               1601458 non-null  int64  \n",
      " 8   latitude                            1601458 non-null  float64\n",
      " 9   longitude                           1601458 non-null  float64\n",
      " 10  address_by_law                      1601458 non-null  int64  \n",
      " 11  total_parking_capacity_in_site      1509645 non-null  float64\n",
      " 12  total_household_count_in_sites      1601458 non-null  int64  \n",
      " 13  apartment_building_count_in_sites   1601458 non-null  int64  \n",
      " 14  tallest_building_in_sites           1601449 non-null  float64\n",
      " 15  lowest_building_in_sites            1601449 non-null  float64\n",
      " 16  heat_type                           1599441 non-null  object \n",
      " 17  heat_fuel                           1591791 non-null  object \n",
      " 18  room_id                             1601458 non-null  int64  \n",
      " 19  supply_area                         1601458 non-null  float64\n",
      " 20  total_household_count_of_area_type  1601458 non-null  int64  \n",
      " 21  room_count                          1600767 non-null  float64\n",
      " 22  bathroom_count                      1600767 non-null  float64\n",
      " 23  front_door_structure                1587566 non-null  object \n",
      " 24  transaction_real_price              1601458 non-null  int64  \n",
      "dtypes: float64(9), int64(12), object(4)\n",
      "memory usage: 305.5+ MB\n"
     ]
    }
   ],
   "source": [
    "houseprice_train_df.info()"
   ]
  },
  {
   "cell_type": "markdown",
   "id": "bd53a93b-d34e-4645-bced-03aed1fb619b",
   "metadata": {},
   "source": [
    "The housing price taining set has 1.6 M records and 25 columns.\n",
    "\n",
    "In these 25 columns, 9 columns have float datatype, 12 columns have integer datatype and 4 columns have object (string) datatype.\n",
    "\n",
    "xx columns have NULL values."
   ]
  },
  {
   "cell_type": "code",
   "execution_count": 15,
   "id": "1feae879-f5b5-4af4-9b8b-da5d578eba58",
   "metadata": {},
   "outputs": [
    {
     "data": {
      "text/plain": [
       "(1601458, 1)"
      ]
     },
     "execution_count": 15,
     "metadata": {},
     "output_type": "execute_result"
    }
   ],
   "source": [
    "houseprice_train_df[[\"key\"]].shape"
   ]
  },
  {
   "cell_type": "code",
   "execution_count": 17,
   "id": "5d140f00-7d27-4470-95d5-ca22f7128a41",
   "metadata": {},
   "outputs": [
    {
     "data": {
      "text/plain": [
       "(3906, 1)"
      ]
     },
     "execution_count": 17,
     "metadata": {},
     "output_type": "execute_result"
    }
   ],
   "source": [
    "houseprice_train_df[[\"apartment_id\"]].drop_duplicates().shape"
   ]
  },
  {
   "cell_type": "code",
   "execution_count": 21,
   "id": "5ca6573f-fd73-4946-a3c4-71da6ea9e01d",
   "metadata": {},
   "outputs": [
    {
     "data": {
      "text/plain": [
       "apartment_id\n",
       "16156           17000\n",
       "8001            15915\n",
       "7922             6360\n",
       "7771             6328\n",
       "8002             6273\n",
       "                ...  \n",
       "316                 1\n",
       "22241               1\n",
       "36027               1\n",
       "36649               1\n",
       "37469               1\n",
       "Length: 3906, dtype: int64"
      ]
     },
     "execution_count": 21,
     "metadata": {},
     "output_type": "execute_result"
    }
   ],
   "source": [
    "houseprice_train_df[[\"apartment_id\"]].value_counts()"
   ]
  },
  {
   "cell_type": "code",
   "execution_count": 24,
   "id": "d8a95137-f10f-46e7-9152-0591fa0746b6",
   "metadata": {},
   "outputs": [
    {
     "data": {
      "text/html": [
       "<div>\n",
       "<style scoped>\n",
       "    .dataframe tbody tr th:only-of-type {\n",
       "        vertical-align: middle;\n",
       "    }\n",
       "\n",
       "    .dataframe tbody tr th {\n",
       "        vertical-align: top;\n",
       "    }\n",
       "\n",
       "    .dataframe thead th {\n",
       "        text-align: right;\n",
       "    }\n",
       "</style>\n",
       "<table border=\"1\" class=\"dataframe\">\n",
       "  <thead>\n",
       "    <tr style=\"text-align: right;\">\n",
       "      <th></th>\n",
       "      <th>key</th>\n",
       "      <th>apartment_id</th>\n",
       "      <th>city</th>\n",
       "      <th>transaction_year_month</th>\n",
       "      <th>transaction_date</th>\n",
       "      <th>year_of_completion</th>\n",
       "      <th>exclusive_use_area</th>\n",
       "      <th>floor</th>\n",
       "      <th>latitude</th>\n",
       "      <th>longitude</th>\n",
       "      <th>...</th>\n",
       "      <th>lowest_building_in_sites</th>\n",
       "      <th>heat_type</th>\n",
       "      <th>heat_fuel</th>\n",
       "      <th>room_id</th>\n",
       "      <th>supply_area</th>\n",
       "      <th>total_household_count_of_area_type</th>\n",
       "      <th>room_count</th>\n",
       "      <th>bathroom_count</th>\n",
       "      <th>front_door_structure</th>\n",
       "      <th>transaction_real_price</th>\n",
       "    </tr>\n",
       "  </thead>\n",
       "  <tbody>\n",
       "    <tr>\n",
       "      <th>310260</th>\n",
       "      <td>310260</td>\n",
       "      <td>16156</td>\n",
       "      <td>1</td>\n",
       "      <td>200807</td>\n",
       "      <td>21~31</td>\n",
       "      <td>2008</td>\n",
       "      <td>98.55</td>\n",
       "      <td>19</td>\n",
       "      <td>37.512753</td>\n",
       "      <td>127.088419</td>\n",
       "      <td>...</td>\n",
       "      <td>21.0</td>\n",
       "      <td>district</td>\n",
       "      <td>cogeneration</td>\n",
       "      <td>13791</td>\n",
       "      <td>126.59</td>\n",
       "      <td>130</td>\n",
       "      <td>4.0</td>\n",
       "      <td>2.0</td>\n",
       "      <td>stairway</td>\n",
       "      <td>1200000000</td>\n",
       "    </tr>\n",
       "    <tr>\n",
       "      <th>312109</th>\n",
       "      <td>312109</td>\n",
       "      <td>16156</td>\n",
       "      <td>1</td>\n",
       "      <td>200808</td>\n",
       "      <td>11~20</td>\n",
       "      <td>2008</td>\n",
       "      <td>84.99</td>\n",
       "      <td>26</td>\n",
       "      <td>37.512753</td>\n",
       "      <td>127.088419</td>\n",
       "      <td>...</td>\n",
       "      <td>21.0</td>\n",
       "      <td>district</td>\n",
       "      <td>cogeneration</td>\n",
       "      <td>13781</td>\n",
       "      <td>109.20</td>\n",
       "      <td>1201</td>\n",
       "      <td>3.0</td>\n",
       "      <td>2.0</td>\n",
       "      <td>stairway</td>\n",
       "      <td>906000000</td>\n",
       "    </tr>\n",
       "    <tr>\n",
       "      <th>312110</th>\n",
       "      <td>312110</td>\n",
       "      <td>16156</td>\n",
       "      <td>1</td>\n",
       "      <td>200808</td>\n",
       "      <td>11~20</td>\n",
       "      <td>2008</td>\n",
       "      <td>84.99</td>\n",
       "      <td>26</td>\n",
       "      <td>37.512753</td>\n",
       "      <td>127.088419</td>\n",
       "      <td>...</td>\n",
       "      <td>21.0</td>\n",
       "      <td>district</td>\n",
       "      <td>cogeneration</td>\n",
       "      <td>13782</td>\n",
       "      <td>109.35</td>\n",
       "      <td>828</td>\n",
       "      <td>3.0</td>\n",
       "      <td>2.0</td>\n",
       "      <td>stairway</td>\n",
       "      <td>906000000</td>\n",
       "    </tr>\n",
       "    <tr>\n",
       "      <th>312111</th>\n",
       "      <td>312111</td>\n",
       "      <td>16156</td>\n",
       "      <td>1</td>\n",
       "      <td>200808</td>\n",
       "      <td>11~20</td>\n",
       "      <td>2008</td>\n",
       "      <td>84.99</td>\n",
       "      <td>26</td>\n",
       "      <td>37.512753</td>\n",
       "      <td>127.088419</td>\n",
       "      <td>...</td>\n",
       "      <td>21.0</td>\n",
       "      <td>district</td>\n",
       "      <td>cogeneration</td>\n",
       "      <td>13783</td>\n",
       "      <td>109.34</td>\n",
       "      <td>436</td>\n",
       "      <td>3.0</td>\n",
       "      <td>2.0</td>\n",
       "      <td>stairway</td>\n",
       "      <td>906000000</td>\n",
       "    </tr>\n",
       "    <tr>\n",
       "      <th>312112</th>\n",
       "      <td>312112</td>\n",
       "      <td>16156</td>\n",
       "      <td>1</td>\n",
       "      <td>200808</td>\n",
       "      <td>11~20</td>\n",
       "      <td>2008</td>\n",
       "      <td>84.99</td>\n",
       "      <td>26</td>\n",
       "      <td>37.512753</td>\n",
       "      <td>127.088419</td>\n",
       "      <td>...</td>\n",
       "      <td>21.0</td>\n",
       "      <td>district</td>\n",
       "      <td>cogeneration</td>\n",
       "      <td>13784</td>\n",
       "      <td>109.51</td>\n",
       "      <td>29</td>\n",
       "      <td>3.0</td>\n",
       "      <td>2.0</td>\n",
       "      <td>stairway</td>\n",
       "      <td>906000000</td>\n",
       "    </tr>\n",
       "    <tr>\n",
       "      <th>...</th>\n",
       "      <td>...</td>\n",
       "      <td>...</td>\n",
       "      <td>...</td>\n",
       "      <td>...</td>\n",
       "      <td>...</td>\n",
       "      <td>...</td>\n",
       "      <td>...</td>\n",
       "      <td>...</td>\n",
       "      <td>...</td>\n",
       "      <td>...</td>\n",
       "      <td>...</td>\n",
       "      <td>...</td>\n",
       "      <td>...</td>\n",
       "      <td>...</td>\n",
       "      <td>...</td>\n",
       "      <td>...</td>\n",
       "      <td>...</td>\n",
       "      <td>...</td>\n",
       "      <td>...</td>\n",
       "      <td>...</td>\n",
       "      <td>...</td>\n",
       "    </tr>\n",
       "    <tr>\n",
       "      <th>1600565</th>\n",
       "      <td>1603406</td>\n",
       "      <td>16156</td>\n",
       "      <td>1</td>\n",
       "      <td>201809</td>\n",
       "      <td>1~10</td>\n",
       "      <td>2008</td>\n",
       "      <td>59.99</td>\n",
       "      <td>5</td>\n",
       "      <td>37.512753</td>\n",
       "      <td>127.088419</td>\n",
       "      <td>...</td>\n",
       "      <td>21.0</td>\n",
       "      <td>district</td>\n",
       "      <td>cogeneration</td>\n",
       "      <td>13797</td>\n",
       "      <td>82.10</td>\n",
       "      <td>27</td>\n",
       "      <td>3.0</td>\n",
       "      <td>2.0</td>\n",
       "      <td>stairway</td>\n",
       "      <td>1450000000</td>\n",
       "    </tr>\n",
       "    <tr>\n",
       "      <th>1600566</th>\n",
       "      <td>1603407</td>\n",
       "      <td>16156</td>\n",
       "      <td>1</td>\n",
       "      <td>201809</td>\n",
       "      <td>1~10</td>\n",
       "      <td>2008</td>\n",
       "      <td>59.99</td>\n",
       "      <td>5</td>\n",
       "      <td>37.512753</td>\n",
       "      <td>127.088419</td>\n",
       "      <td>...</td>\n",
       "      <td>21.0</td>\n",
       "      <td>district</td>\n",
       "      <td>cogeneration</td>\n",
       "      <td>13798</td>\n",
       "      <td>82.32</td>\n",
       "      <td>104</td>\n",
       "      <td>3.0</td>\n",
       "      <td>2.0</td>\n",
       "      <td>stairway</td>\n",
       "      <td>1450000000</td>\n",
       "    </tr>\n",
       "    <tr>\n",
       "      <th>1600567</th>\n",
       "      <td>1603408</td>\n",
       "      <td>16156</td>\n",
       "      <td>1</td>\n",
       "      <td>201809</td>\n",
       "      <td>1~10</td>\n",
       "      <td>2008</td>\n",
       "      <td>59.99</td>\n",
       "      <td>5</td>\n",
       "      <td>37.512753</td>\n",
       "      <td>127.088419</td>\n",
       "      <td>...</td>\n",
       "      <td>21.0</td>\n",
       "      <td>district</td>\n",
       "      <td>cogeneration</td>\n",
       "      <td>13799</td>\n",
       "      <td>82.10</td>\n",
       "      <td>27</td>\n",
       "      <td>3.0</td>\n",
       "      <td>2.0</td>\n",
       "      <td>stairway</td>\n",
       "      <td>1450000000</td>\n",
       "    </tr>\n",
       "    <tr>\n",
       "      <th>1600568</th>\n",
       "      <td>1603409</td>\n",
       "      <td>16156</td>\n",
       "      <td>1</td>\n",
       "      <td>201809</td>\n",
       "      <td>1~10</td>\n",
       "      <td>2008</td>\n",
       "      <td>59.99</td>\n",
       "      <td>5</td>\n",
       "      <td>37.512753</td>\n",
       "      <td>127.088419</td>\n",
       "      <td>...</td>\n",
       "      <td>21.0</td>\n",
       "      <td>district</td>\n",
       "      <td>cogeneration</td>\n",
       "      <td>13800</td>\n",
       "      <td>82.13</td>\n",
       "      <td>29</td>\n",
       "      <td>3.0</td>\n",
       "      <td>2.0</td>\n",
       "      <td>stairway</td>\n",
       "      <td>1450000000</td>\n",
       "    </tr>\n",
       "    <tr>\n",
       "      <th>1600569</th>\n",
       "      <td>1603410</td>\n",
       "      <td>16156</td>\n",
       "      <td>1</td>\n",
       "      <td>201809</td>\n",
       "      <td>1~10</td>\n",
       "      <td>2008</td>\n",
       "      <td>59.99</td>\n",
       "      <td>5</td>\n",
       "      <td>37.512753</td>\n",
       "      <td>127.088419</td>\n",
       "      <td>...</td>\n",
       "      <td>21.0</td>\n",
       "      <td>district</td>\n",
       "      <td>cogeneration</td>\n",
       "      <td>13801</td>\n",
       "      <td>82.47</td>\n",
       "      <td>29</td>\n",
       "      <td>3.0</td>\n",
       "      <td>2.0</td>\n",
       "      <td>stairway</td>\n",
       "      <td>1450000000</td>\n",
       "    </tr>\n",
       "  </tbody>\n",
       "</table>\n",
       "<p>17000 rows × 25 columns</p>\n",
       "</div>"
      ],
      "text/plain": [
       "             key  apartment_id  city  transaction_year_month transaction_date  \\\n",
       "310260    310260         16156     1                  200807            21~31   \n",
       "312109    312109         16156     1                  200808            11~20   \n",
       "312110    312110         16156     1                  200808            11~20   \n",
       "312111    312111         16156     1                  200808            11~20   \n",
       "312112    312112         16156     1                  200808            11~20   \n",
       "...          ...           ...   ...                     ...              ...   \n",
       "1600565  1603406         16156     1                  201809             1~10   \n",
       "1600566  1603407         16156     1                  201809             1~10   \n",
       "1600567  1603408         16156     1                  201809             1~10   \n",
       "1600568  1603409         16156     1                  201809             1~10   \n",
       "1600569  1603410         16156     1                  201809             1~10   \n",
       "\n",
       "         year_of_completion  exclusive_use_area  floor   latitude   longitude  \\\n",
       "310260                 2008               98.55     19  37.512753  127.088419   \n",
       "312109                 2008               84.99     26  37.512753  127.088419   \n",
       "312110                 2008               84.99     26  37.512753  127.088419   \n",
       "312111                 2008               84.99     26  37.512753  127.088419   \n",
       "312112                 2008               84.99     26  37.512753  127.088419   \n",
       "...                     ...                 ...    ...        ...         ...   \n",
       "1600565                2008               59.99      5  37.512753  127.088419   \n",
       "1600566                2008               59.99      5  37.512753  127.088419   \n",
       "1600567                2008               59.99      5  37.512753  127.088419   \n",
       "1600568                2008               59.99      5  37.512753  127.088419   \n",
       "1600569                2008               59.99      5  37.512753  127.088419   \n",
       "\n",
       "         ...  lowest_building_in_sites  heat_type     heat_fuel  room_id  \\\n",
       "310260   ...                      21.0   district  cogeneration    13791   \n",
       "312109   ...                      21.0   district  cogeneration    13781   \n",
       "312110   ...                      21.0   district  cogeneration    13782   \n",
       "312111   ...                      21.0   district  cogeneration    13783   \n",
       "312112   ...                      21.0   district  cogeneration    13784   \n",
       "...      ...                       ...        ...           ...      ...   \n",
       "1600565  ...                      21.0   district  cogeneration    13797   \n",
       "1600566  ...                      21.0   district  cogeneration    13798   \n",
       "1600567  ...                      21.0   district  cogeneration    13799   \n",
       "1600568  ...                      21.0   district  cogeneration    13800   \n",
       "1600569  ...                      21.0   district  cogeneration    13801   \n",
       "\n",
       "         supply_area  total_household_count_of_area_type room_count  \\\n",
       "310260        126.59                                 130        4.0   \n",
       "312109        109.20                                1201        3.0   \n",
       "312110        109.35                                 828        3.0   \n",
       "312111        109.34                                 436        3.0   \n",
       "312112        109.51                                  29        3.0   \n",
       "...              ...                                 ...        ...   \n",
       "1600565        82.10                                  27        3.0   \n",
       "1600566        82.32                                 104        3.0   \n",
       "1600567        82.10                                  27        3.0   \n",
       "1600568        82.13                                  29        3.0   \n",
       "1600569        82.47                                  29        3.0   \n",
       "\n",
       "        bathroom_count  front_door_structure  transaction_real_price  \n",
       "310260             2.0              stairway              1200000000  \n",
       "312109             2.0              stairway               906000000  \n",
       "312110             2.0              stairway               906000000  \n",
       "312111             2.0              stairway               906000000  \n",
       "312112             2.0              stairway               906000000  \n",
       "...                ...                   ...                     ...  \n",
       "1600565            2.0              stairway              1450000000  \n",
       "1600566            2.0              stairway              1450000000  \n",
       "1600567            2.0              stairway              1450000000  \n",
       "1600568            2.0              stairway              1450000000  \n",
       "1600569            2.0              stairway              1450000000  \n",
       "\n",
       "[17000 rows x 25 columns]"
      ]
     },
     "execution_count": 24,
     "metadata": {},
     "output_type": "execute_result"
    }
   ],
   "source": [
    "houseprice_train_df[houseprice_train_df[\"apartment_id\"] == 16156]"
   ]
  },
  {
   "cell_type": "code",
   "execution_count": 8,
   "id": "b4bc19fb-dc77-4d43-9921-0d192ca65756",
   "metadata": {},
   "outputs": [
    {
     "data": {
      "text/plain": [
       "(3918, 25)"
      ]
     },
     "execution_count": 8,
     "metadata": {},
     "output_type": "execute_result"
    }
   ],
   "source": [
    "houseprice_test_df.shape"
   ]
  },
  {
   "cell_type": "code",
   "execution_count": 9,
   "id": "67d3c825-922c-4c30-be85-575931faa56e",
   "metadata": {},
   "outputs": [
    {
     "data": {
      "text/plain": [
       "(405, 5)"
      ]
     },
     "execution_count": 9,
     "metadata": {},
     "output_type": "execute_result"
    }
   ],
   "source": [
    "subway_df.shape"
   ]
  },
  {
   "cell_type": "code",
   "execution_count": 10,
   "id": "f2892057-0841-4e03-9664-82b4f4226b56",
   "metadata": {},
   "outputs": [
    {
     "data": {
      "text/plain": [
       "(1921, 9)"
      ]
     },
     "execution_count": 10,
     "metadata": {},
     "output_type": "execute_result"
    }
   ],
   "source": [
    "schools_df.shape"
   ]
  },
  {
   "cell_type": "code",
   "execution_count": null,
   "id": "c5876406-9acd-4f2c-929d-d5e3e6faf907",
   "metadata": {},
   "outputs": [],
   "source": []
  },
  {
   "cell_type": "code",
   "execution_count": null,
   "id": "86d8af34-cbe7-4203-a3f7-797768b4e541",
   "metadata": {},
   "outputs": [],
   "source": []
  },
  {
   "cell_type": "code",
   "execution_count": null,
   "id": "509aa629-6a7c-4b93-b00f-2adc524c1f1c",
   "metadata": {},
   "outputs": [],
   "source": []
  },
  {
   "cell_type": "code",
   "execution_count": null,
   "id": "f837b0cc-30dd-4192-95a1-bcf9c643d711",
   "metadata": {},
   "outputs": [],
   "source": []
  },
  {
   "cell_type": "code",
   "execution_count": null,
   "id": "ee7434c2-a236-44d6-832d-a893eccbc82b",
   "metadata": {},
   "outputs": [],
   "source": []
  },
  {
   "cell_type": "code",
   "execution_count": null,
   "id": "1685eff2-a92c-4912-84cc-23eceb0fec7a",
   "metadata": {},
   "outputs": [],
   "source": []
  },
  {
   "cell_type": "code",
   "execution_count": null,
   "id": "8fe2dd8e-ec87-4812-aa6f-41118e381c4b",
   "metadata": {},
   "outputs": [],
   "source": []
  },
  {
   "cell_type": "code",
   "execution_count": null,
   "id": "6c413239-f1de-4ec3-a828-967d357bf832",
   "metadata": {},
   "outputs": [],
   "source": []
  },
  {
   "cell_type": "code",
   "execution_count": null,
   "id": "8927486a-ce2b-4ec7-b1f6-1dd82d678188",
   "metadata": {},
   "outputs": [],
   "source": []
  }
 ],
 "metadata": {
  "kernelspec": {
   "display_name": "Python 3 (ipykernel)",
   "language": "python",
   "name": "python3"
  },
  "language_info": {
   "codemirror_mode": {
    "name": "ipython",
    "version": 3
   },
   "file_extension": ".py",
   "mimetype": "text/x-python",
   "name": "python",
   "nbconvert_exporter": "python",
   "pygments_lexer": "ipython3",
   "version": "3.11.4"
  }
 },
 "nbformat": 4,
 "nbformat_minor": 5
}
