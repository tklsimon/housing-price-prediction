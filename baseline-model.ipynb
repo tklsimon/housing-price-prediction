{
 "cells": [
  {
   "cell_type": "markdown",
   "id": "9e166679",
   "metadata": {},
   "source": [
    "# Baseline Model"
   ]
  },
  {
   "cell_type": "markdown",
   "id": "246f6bfa",
   "metadata": {},
   "source": [
    "Author: Vincent\n",
    "\n",
    "Last Update: 2024-04-25"
   ]
  },
  {
   "cell_type": "markdown",
   "id": "9f3575fd",
   "metadata": {},
   "source": [
    "## Import Library"
   ]
  },
  {
   "cell_type": "code",
   "execution_count": 1,
   "id": "664ca880-12ff-4fac-9e98-1d67f095d9b8",
   "metadata": {},
   "outputs": [],
   "source": [
    "import pandas as pd\n",
    "import numpy as np\n",
    "import matplotlib.pyplot as plt\n",
    "import seaborn as sns"
   ]
  },
  {
   "cell_type": "code",
   "execution_count": 2,
   "id": "24f6fbe4-05bd-4fd0-86aa-f70a8af1794a",
   "metadata": {},
   "outputs": [],
   "source": [
    "from sklearn.metrics import confusion_matrix, roc_curve, auc\n",
    "from sklearn.metrics import mean_absolute_error, mean_squared_error, r2_score, explained_variance_score\n",
    "from sklearn.model_selection import train_test_split\n",
    "from sklearn.dummy import DummyRegressor\n",
    "from sklearn.ensemble import VotingRegressor\n",
    "from sklearn.base import BaseEstimator, RegressorMixin\n",
    "from sklearn.neighbors import KNeighborsRegressor"
   ]
  },
  {
   "cell_type": "code",
   "execution_count": 3,
   "id": "1fe388cc-6d29-48cc-b3e5-45b57b3bd377",
   "metadata": {},
   "outputs": [],
   "source": [
    "import copy\n",
    "import warnings"
   ]
  },
  {
   "cell_type": "code",
   "execution_count": 4,
   "id": "af5a8c12",
   "metadata": {},
   "outputs": [],
   "source": [
    "warnings.filterwarnings('ignore')\n",
    "%matplotlib inline"
   ]
  },
  {
   "cell_type": "markdown",
   "id": "696bf79d",
   "metadata": {},
   "source": [
    "## Load Dataset"
   ]
  },
  {
   "cell_type": "code",
   "execution_count": 5,
   "id": "82b93197-f62a-48c8-ba05-3558a53bdc90",
   "metadata": {},
   "outputs": [],
   "source": [
    "df_price = pd.read_csv('price_transform.csv')"
   ]
  },
  {
   "cell_type": "code",
   "execution_count": 6,
   "id": "c807b9c3-6308-4373-b55d-0c2d369b4454",
   "metadata": {},
   "outputs": [
    {
     "data": {
      "text/html": [
       "<div>\n",
       "<style scoped>\n",
       "    .dataframe tbody tr th:only-of-type {\n",
       "        vertical-align: middle;\n",
       "    }\n",
       "\n",
       "    .dataframe tbody tr th {\n",
       "        vertical-align: top;\n",
       "    }\n",
       "\n",
       "    .dataframe thead th {\n",
       "        text-align: right;\n",
       "    }\n",
       "</style>\n",
       "<table border=\"1\" class=\"dataframe\">\n",
       "  <thead>\n",
       "    <tr style=\"text-align: right;\">\n",
       "      <th></th>\n",
       "      <th>apartment_id</th>\n",
       "      <th>city</th>\n",
       "      <th>exclusive_use_area</th>\n",
       "      <th>floor</th>\n",
       "      <th>latitude</th>\n",
       "      <th>longitude</th>\n",
       "      <th>address_by_law</th>\n",
       "      <th>total_parking_capacity_in_site</th>\n",
       "      <th>total_household_count_in_sites</th>\n",
       "      <th>apartment_building_count_in_sites</th>\n",
       "      <th>...</th>\n",
       "      <th>heat_type_district</th>\n",
       "      <th>heat_type_-</th>\n",
       "      <th>heat_type_central</th>\n",
       "      <th>heat_type_individual</th>\n",
       "      <th>heat_fuel_gas</th>\n",
       "      <th>heat_fuel_-</th>\n",
       "      <th>heat_fuel_cogeneration</th>\n",
       "      <th>transaction_date_1~10</th>\n",
       "      <th>transaction_date_11~20</th>\n",
       "      <th>transaction_date_21~31</th>\n",
       "    </tr>\n",
       "  </thead>\n",
       "  <tbody>\n",
       "    <tr>\n",
       "      <th>0</th>\n",
       "      <td>5584</td>\n",
       "      <td>1</td>\n",
       "      <td>-1.144215</td>\n",
       "      <td>-0.574122</td>\n",
       "      <td>0.689431</td>\n",
       "      <td>-0.765620</td>\n",
       "      <td>1111017100</td>\n",
       "      <td>-0.747549</td>\n",
       "      <td>-0.926899</td>\n",
       "      <td>-0.839598</td>\n",
       "      <td>...</td>\n",
       "      <td>0</td>\n",
       "      <td>0</td>\n",
       "      <td>0</td>\n",
       "      <td>1</td>\n",
       "      <td>1</td>\n",
       "      <td>0</td>\n",
       "      <td>0</td>\n",
       "      <td>0</td>\n",
       "      <td>1</td>\n",
       "      <td>0</td>\n",
       "    </tr>\n",
       "    <tr>\n",
       "      <th>1</th>\n",
       "      <td>5584</td>\n",
       "      <td>1</td>\n",
       "      <td>-1.253498</td>\n",
       "      <td>-0.296118</td>\n",
       "      <td>0.689431</td>\n",
       "      <td>-0.765620</td>\n",
       "      <td>1111017100</td>\n",
       "      <td>-0.747549</td>\n",
       "      <td>-0.926899</td>\n",
       "      <td>-0.839598</td>\n",
       "      <td>...</td>\n",
       "      <td>0</td>\n",
       "      <td>0</td>\n",
       "      <td>0</td>\n",
       "      <td>1</td>\n",
       "      <td>1</td>\n",
       "      <td>0</td>\n",
       "      <td>0</td>\n",
       "      <td>0</td>\n",
       "      <td>1</td>\n",
       "      <td>0</td>\n",
       "    </tr>\n",
       "    <tr>\n",
       "      <th>2</th>\n",
       "      <td>5059</td>\n",
       "      <td>1</td>\n",
       "      <td>-0.884577</td>\n",
       "      <td>-0.296118</td>\n",
       "      <td>0.685361</td>\n",
       "      <td>-0.751986</td>\n",
       "      <td>1111017400</td>\n",
       "      <td>-0.249759</td>\n",
       "      <td>-0.528882</td>\n",
       "      <td>-0.553712</td>\n",
       "      <td>...</td>\n",
       "      <td>0</td>\n",
       "      <td>0</td>\n",
       "      <td>0</td>\n",
       "      <td>1</td>\n",
       "      <td>1</td>\n",
       "      <td>0</td>\n",
       "      <td>0</td>\n",
       "      <td>0</td>\n",
       "      <td>1</td>\n",
       "      <td>0</td>\n",
       "    </tr>\n",
       "    <tr>\n",
       "      <th>3</th>\n",
       "      <td>2816</td>\n",
       "      <td>1</td>\n",
       "      <td>-0.528869</td>\n",
       "      <td>0.120889</td>\n",
       "      <td>0.685221</td>\n",
       "      <td>-0.754190</td>\n",
       "      <td>1111017400</td>\n",
       "      <td>-0.249759</td>\n",
       "      <td>-0.232807</td>\n",
       "      <td>-0.410768</td>\n",
       "      <td>...</td>\n",
       "      <td>0</td>\n",
       "      <td>0</td>\n",
       "      <td>0</td>\n",
       "      <td>1</td>\n",
       "      <td>1</td>\n",
       "      <td>0</td>\n",
       "      <td>0</td>\n",
       "      <td>0</td>\n",
       "      <td>1</td>\n",
       "      <td>0</td>\n",
       "    </tr>\n",
       "    <tr>\n",
       "      <th>4</th>\n",
       "      <td>2816</td>\n",
       "      <td>1</td>\n",
       "      <td>0.969673</td>\n",
       "      <td>-0.435120</td>\n",
       "      <td>0.685221</td>\n",
       "      <td>-0.754190</td>\n",
       "      <td>1111017400</td>\n",
       "      <td>-0.249759</td>\n",
       "      <td>-0.232807</td>\n",
       "      <td>-0.410768</td>\n",
       "      <td>...</td>\n",
       "      <td>0</td>\n",
       "      <td>0</td>\n",
       "      <td>0</td>\n",
       "      <td>1</td>\n",
       "      <td>1</td>\n",
       "      <td>0</td>\n",
       "      <td>0</td>\n",
       "      <td>0</td>\n",
       "      <td>1</td>\n",
       "      <td>0</td>\n",
       "    </tr>\n",
       "  </tbody>\n",
       "</table>\n",
       "<p>5 rows × 37 columns</p>\n",
       "</div>"
      ],
      "text/plain": [
       "   apartment_id  city  exclusive_use_area     floor  latitude  longitude  \\\n",
       "0          5584     1           -1.144215 -0.574122  0.689431  -0.765620   \n",
       "1          5584     1           -1.253498 -0.296118  0.689431  -0.765620   \n",
       "2          5059     1           -0.884577 -0.296118  0.685361  -0.751986   \n",
       "3          2816     1           -0.528869  0.120889  0.685221  -0.754190   \n",
       "4          2816     1            0.969673 -0.435120  0.685221  -0.754190   \n",
       "\n",
       "   address_by_law  total_parking_capacity_in_site  \\\n",
       "0      1111017100                       -0.747549   \n",
       "1      1111017100                       -0.747549   \n",
       "2      1111017400                       -0.249759   \n",
       "3      1111017400                       -0.249759   \n",
       "4      1111017400                       -0.249759   \n",
       "\n",
       "   total_household_count_in_sites  apartment_building_count_in_sites  ...  \\\n",
       "0                       -0.926899                          -0.839598  ...   \n",
       "1                       -0.926899                          -0.839598  ...   \n",
       "2                       -0.528882                          -0.553712  ...   \n",
       "3                       -0.232807                          -0.410768  ...   \n",
       "4                       -0.232807                          -0.410768  ...   \n",
       "\n",
       "   heat_type_district  heat_type_-  heat_type_central  heat_type_individual  \\\n",
       "0                   0            0                  0                     1   \n",
       "1                   0            0                  0                     1   \n",
       "2                   0            0                  0                     1   \n",
       "3                   0            0                  0                     1   \n",
       "4                   0            0                  0                     1   \n",
       "\n",
       "   heat_fuel_gas  heat_fuel_-  heat_fuel_cogeneration  transaction_date_1~10  \\\n",
       "0              1            0                       0                      0   \n",
       "1              1            0                       0                      0   \n",
       "2              1            0                       0                      0   \n",
       "3              1            0                       0                      0   \n",
       "4              1            0                       0                      0   \n",
       "\n",
       "   transaction_date_11~20  transaction_date_21~31  \n",
       "0                       1                       0  \n",
       "1                       1                       0  \n",
       "2                       1                       0  \n",
       "3                       1                       0  \n",
       "4                       1                       0  \n",
       "\n",
       "[5 rows x 37 columns]"
      ]
     },
     "execution_count": 6,
     "metadata": {},
     "output_type": "execute_result"
    }
   ],
   "source": [
    "df_price.head()"
   ]
  },
  {
   "cell_type": "markdown",
   "id": "36fee0e0",
   "metadata": {},
   "source": [
    "## Train-test split"
   ]
  },
  {
   "cell_type": "code",
   "execution_count": 7,
   "id": "746040b9-b900-4d26-8a80-ea8a306d453f",
   "metadata": {},
   "outputs": [],
   "source": [
    "_ = df_price[[\n",
    "    'transaction_real_price',\n",
    "    'apartment_id',\n",
    "    'room_id',\n",
    "    'address_by_law',\n",
    "    'longitude',\n",
    "    'latitude'\n",
    "]]\n",
    "X_train, X_test, y_train, y_test = train_test_split(_, df_price['transaction_real_price'])"
   ]
  },
  {
   "cell_type": "markdown",
   "id": "6fa56ee8",
   "metadata": {},
   "source": [
    "## Baseline Prediction"
   ]
  },
  {
   "cell_type": "code",
   "execution_count": 8,
   "id": "c5b363f0",
   "metadata": {},
   "outputs": [],
   "source": [
    "def regression_report(y_test, y_pred):\n",
    "    mse = mean_squared_error(y_test, y_pred)\n",
    "    mae = mean_absolute_error(y_test, y_pred)\n",
    "    r2 = r2_score(y_test, y_pred)\n",
    "    explained = explained_variance_score(y_test, y_pred)\n",
    "    return \"\"\"mse: %.3f\n",
    "mae: %.3f\n",
    "r2: %.3f\n",
    "explained variance score: %.3f\n",
    "\"\"\" % (mse, mae, r2, explained)"
   ]
  },
  {
   "cell_type": "code",
   "execution_count": 9,
   "id": "e0866919",
   "metadata": {},
   "outputs": [],
   "source": [
    "def relative_error_report(y_test, y_pred):\n",
    "    y_rel_err = (y_pred - y_test) / y_test\n",
    "    # some predicted as 0 because no data in training set!\n",
    "    y_rel_err = [e for e in y_rel_err if e != -1 ]\n",
    "    print('variance: ', np.var(y_rel_err))\n",
    "    print('mean: ', np.mean(y_rel_err))\n",
    "    print('max: ', np.max(y_rel_err))\n",
    "    print('min: ', np.min(y_rel_err))"
   ]
  },
  {
   "cell_type": "code",
   "execution_count": 10,
   "id": "62df4582",
   "metadata": {},
   "outputs": [],
   "source": [
    "def bar_relative_error(y_test, y_pred, label=\"\"):\n",
    "    y_rel_err = (y_pred - y_test) / y_test\n",
    "    y_rel_err = [e for e in y_rel_err if e != -1 ]\n",
    "    plt.hist(y_rel_err, bins=100, log=True, histtype='step', label=label)"
   ]
  },
  {
   "cell_type": "markdown",
   "id": "59aeb91a",
   "metadata": {},
   "source": [
    "### Mean Prediction"
   ]
  },
  {
   "cell_type": "code",
   "execution_count": 11,
   "id": "8f189302",
   "metadata": {},
   "outputs": [
    {
     "name": "stdout",
     "output_type": "stream",
     "text": [
      "mse: 104323091252961552.000\n",
      "mae: 216765632.865\n",
      "r2: -0.000\n",
      "explained variance score: 0.000\n",
      "\n"
     ]
    }
   ],
   "source": [
    "regressor = DummyRegressor()\n",
    "regressor.fit(X_train['transaction_real_price'], y_train)\n",
    "y_pred = regressor.predict(X_test)\n",
    "print(regression_report(y_test, y_pred))"
   ]
  },
  {
   "cell_type": "markdown",
   "id": "442b8c99",
   "metadata": {},
   "source": [
    "### Group-By Prediction"
   ]
  },
  {
   "cell_type": "code",
   "execution_count": 12,
   "id": "14c08589",
   "metadata": {},
   "outputs": [],
   "source": [
    "class GroupbyRegressor(BaseEstimator, RegressorMixin):\n",
    "    def __init__(self, feature):\n",
    "        self.feature = feature\n",
    "        self.groupby = dict()\n",
    "    def fit(self, X, y):\n",
    "        _ = copy.deepcopy(X)\n",
    "        _['output'] = y\n",
    "        self.groupby = dict(_.groupby(self.feature)['output'].mean())\n",
    "    def predict(self, X):\n",
    "        return X[self.feature].map(lambda i: self.groupby.get(i, 0))"
   ]
  },
  {
   "cell_type": "code",
   "execution_count": 13,
   "id": "b19b99b3",
   "metadata": {},
   "outputs": [],
   "source": [
    "def pseudo_predict(X_test, feature, groupby_dict):\n",
    "    return X_test[feature].map(lambda i: groupby_dict.get(i, 0))"
   ]
  },
  {
   "cell_type": "code",
   "execution_count": 14,
   "id": "d055319d",
   "metadata": {},
   "outputs": [],
   "source": [
    "def groupby_mean_predict_report(X_train, X_test, y_train, y_test, feature):\n",
    "    regressor = GroupbyRegressor(feature)\n",
    "    regressor.fit(X_train, y_train)\n",
    "    y_pred = regressor.predict(X_test)\n",
    "    print(regression_report(y_test, y_pred))"
   ]
  },
  {
   "cell_type": "code",
   "execution_count": 15,
   "id": "a27ff2b8",
   "metadata": {},
   "outputs": [
    {
     "name": "stdout",
     "output_type": "stream",
     "text": [
      "mse: 9212120629048316.000\n",
      "mae: 58148436.145\n",
      "r2: 0.912\n",
      "explained variance score: 0.912\n",
      "\n"
     ]
    }
   ],
   "source": [
    "groupby_mean_predict_report(X_train, X_test, y_train, y_test, 'room_id')"
   ]
  },
  {
   "cell_type": "code",
   "execution_count": 16,
   "id": "b12d70ef",
   "metadata": {},
   "outputs": [
    {
     "name": "stdout",
     "output_type": "stream",
     "text": [
      "mse: 19471183724548324.000\n",
      "mae: 83558476.877\n",
      "r2: 0.813\n",
      "explained variance score: 0.813\n",
      "\n"
     ]
    }
   ],
   "source": [
    "groupby_mean_predict_report(X_train, X_test, y_train, y_test, 'apartment_id')"
   ]
  },
  {
   "cell_type": "code",
   "execution_count": 17,
   "id": "284881a3",
   "metadata": {},
   "outputs": [
    {
     "name": "stdout",
     "output_type": "stream",
     "text": [
      "mse: 42835600275855528.000\n",
      "mae: 127502469.359\n",
      "r2: 0.589\n",
      "explained variance score: 0.589\n",
      "\n"
     ]
    }
   ],
   "source": [
    "groupby_mean_predict_report(X_train, X_test, y_train, y_test, 'address_by_law')"
   ]
  },
  {
   "cell_type": "markdown",
   "id": "e616693f",
   "metadata": {},
   "source": [
    "**Error Analysis**"
   ]
  },
  {
   "cell_type": "code",
   "execution_count": 18,
   "id": "19196efb",
   "metadata": {},
   "outputs": [
    {
     "name": "stdout",
     "output_type": "stream",
     "text": [
      "===room_id===\n",
      "variance:  0.07572488980457942\n",
      "mean:  0.052480512396495864\n",
      "max:  36.24545454545454\n",
      "min:  -0.7189655172413794\n",
      "===apartment_id===\n",
      "variance:  0.12803114160722726\n",
      "mean:  0.0887514625664326\n",
      "max:  22.284199134199135\n",
      "min:  -0.7608864880794727\n",
      "===address_by_law===\n",
      "variance:  0.549353954086828\n",
      "mean:  0.23116168506203583\n",
      "max:  38.04666725608004\n",
      "min:  -0.8699799342105262\n"
     ]
    },
    {
     "data": {
      "image/png": "[encoded data removed]",
      "text/plain": [
       "<Figure size 640x480 with 1 Axes>"
      ]
     },
     "metadata": {},
     "output_type": "display_data"
    }
   ],
   "source": [
    "for feature in ['room_id', 'apartment_id','address_by_law']:\n",
    "    regressor = GroupbyRegressor(feature)\n",
    "    regressor.fit(X_train, y_train)\n",
    "    y_pred = regressor.predict(X_test)\n",
    "    print(\"===\" + feature + \"===\")\n",
    "    relative_error_report(y_test, y_pred)\n",
    "    bar_relative_error(y_test, y_pred, feature)\n",
    "\n",
    "plt.title('Log Relative Error')\n",
    "plt.xlabel('Log Relative Error')\n",
    "plt.ylabel('Count')    \n",
    "plt.legend()\n",
    "plt.show()"
   ]
  },
  {
   "cell_type": "markdown",
   "id": "66a6cfeb",
   "metadata": {},
   "source": [
    "## Geographical Prediction"
   ]
  },
  {
   "cell_type": "code",
   "execution_count": 19,
   "id": "ff6c2e19",
   "metadata": {},
   "outputs": [],
   "source": [
    "knn = KNeighborsRegressor(p=1, n_neighbors=3)"
   ]
  },
  {
   "cell_type": "code",
   "execution_count": 20,
   "id": "98cbfcd3",
   "metadata": {},
   "outputs": [],
   "source": [
    "knn.fit(X_train[['longitude', 'latitude']], y_train)\n",
    "y_pred = knn.predict(X_test[['longitude', 'latitude']])"
   ]
  },
  {
   "cell_type": "code",
   "execution_count": 21,
   "id": "4069c580",
   "metadata": {},
   "outputs": [
    {
     "name": "stdout",
     "output_type": "stream",
     "text": [
      "mse: 29572978546275328.000\n",
      "mae: 97238138.840\n",
      "r2: 0.717\n",
      "explained variance score: 0.717\n",
      "\n"
     ]
    }
   ],
   "source": [
    "print(regression_report(y_test, y_pred))"
   ]
  },
  {
   "cell_type": "code",
   "execution_count": 22,
   "id": "727f3640",
   "metadata": {},
   "outputs": [
    {
     "name": "stdout",
     "output_type": "stream",
     "text": [
      "variance:  0.16618660356312126\n",
      "mean:  0.09001602866090774\n",
      "max:  18.8\n",
      "min:  -0.8748945147679326\n"
     ]
    }
   ],
   "source": [
    "relative_error_report(y_test, y_pred)"
   ]
  },
  {
   "cell_type": "code",
   "execution_count": 23,
   "id": "a5f80939",
   "metadata": {},
   "outputs": [
    {
     "data": {
      "image/png": "[encoded data removed]",
      "text/plain": [
       "<Figure size 640x480 with 1 Axes>"
      ]
     },
     "metadata": {},
     "output_type": "display_data"
    }
   ],
   "source": [
    "bar_relative_error(y_test, y_pred)\n",
    "plt.show()"
   ]
  },
  {
   "cell_type": "markdown",
   "id": "ef20b503",
   "metadata": {},
   "source": [
    "## Linear Combination of Baseline Model"
   ]
  },
  {
   "cell_type": "code",
   "execution_count": 24,
   "id": "29f36ed7",
   "metadata": {},
   "outputs": [],
   "source": [
    "regressor = VotingRegressor([\n",
    "    ('room', GroupbyRegressor('room_id')), \n",
    "    ('knn', KNeighborsRegressor(p=1, n_neighbors=3))\n",
    "])\n",
    "y_pred = regressor.fit(X_train, y_train).predict(X_test)"
   ]
  },
  {
   "cell_type": "code",
   "execution_count": 25,
   "id": "1dc1d371",
   "metadata": {},
   "outputs": [
    {
     "name": "stdout",
     "output_type": "stream",
     "text": [
      "mse: 2303444503974866.500\n",
      "mae: 29075371.565\n",
      "r2: 0.978\n",
      "explained variance score: 0.978\n",
      "\n"
     ]
    }
   ],
   "source": [
    "print(regression_report(y_test, y_pred))"
   ]
  },
  {
   "cell_type": "code",
   "execution_count": 26,
   "id": "e029e232",
   "metadata": {},
   "outputs": [
    {
     "name": "stdout",
     "output_type": "stream",
     "text": [
      "variance:  0.019189035348117188\n",
      "mean:  0.025732962617028163\n",
      "max:  18.077272727272728\n",
      "min:  -0.503968253968254\n"
     ]
    }
   ],
   "source": [
    "relative_error_report(y_test, y_pred)"
   ]
  },
  {
   "cell_type": "code",
   "execution_count": 27,
   "id": "16bdb82d",
   "metadata": {},
   "outputs": [
    {
     "data": {
      "image/png": "[encoded data removed]",
      "text/plain": [
       "<Figure size 640x480 with 1 Axes>"
      ]
     },
     "metadata": {},
     "output_type": "display_data"
    }
   ],
   "source": [
    "bar_relative_error(y_test, y_pred)\n",
    "plt.show()"
   ]
  },
  {
   "cell_type": "markdown",
   "id": "d1290d09",
   "metadata": {},
   "source": [
    "## Conclusion"
   ]
  },
  {
   "cell_type": "markdown",
   "id": "bfa7f84f",
   "metadata": {},
   "source": [
    "From the above result, we can see that simply group by `room_id`, `apartment_id` or `address_by_law`, or location-only prediction, already obtain a fairly accurate result.  \n",
    "\n",
    "Using VotingRegressor, a linear average of the regressor output, combined to cform a astonishing high r2 score.  This further proves that the prediction is not as challenging as we expected.  "
   ]
  }
 ],
 "metadata": {
  "kernelspec": {
   "display_name": "Python 3 (ipykernel)",
   "language": "python",
   "name": "python3"
  },
  "language_info": {
   "codemirror_mode": {
    "name": "ipython",
    "version": 3
   },
   "file_extension": ".py",
   "mimetype": "text/x-python",
   "name": "python",
   "nbconvert_exporter": "python",
   "pygments_lexer": "ipython3",
   "version": "3.10.5"
  }
 },
 "nbformat": 4,
 "nbformat_minor": 5
}
