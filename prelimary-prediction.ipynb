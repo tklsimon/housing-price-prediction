{
 "cells": [
  {
   "cell_type": "markdown",
   "id": "9e166679",
   "metadata": {},
   "source": [
    "# Prelimary Prediction"
   ]
  },
  {
   "cell_type": "markdown",
   "id": "246f6bfa",
   "metadata": {},
   "source": [
    "Author: Vincent\n",
    "\n",
    "Last Update: 2024-04-10"
   ]
  },
  {
   "cell_type": "markdown",
   "id": "9f3575fd",
   "metadata": {},
   "source": [
    "## Import Library"
   ]
  },
  {
   "cell_type": "code",
   "execution_count": 1,
   "id": "664ca880-12ff-4fac-9e98-1d67f095d9b8",
   "metadata": {},
   "outputs": [],
   "source": [
    "import pandas as pd\n",
    "import numpy as np\n",
    "import matplotlib.pyplot as plt\n",
    "import seaborn as sns"
   ]
  },
  {
   "cell_type": "code",
   "execution_count": 2,
   "id": "24f6fbe4-05bd-4fd0-86aa-f70a8af1794a",
   "metadata": {},
   "outputs": [],
   "source": [
    "from sklearn.metrics import confusion_matrix, roc_curve, auc\n",
    "from sklearn.metrics import mean_absolute_error, mean_squared_error, r2_score, explained_variance_score\n",
    "\n",
    "from sklearn.linear_model import LinearRegression, BayesianRidge\n",
    "from sklearn.model_selection import train_test_split, GridSearchCV\n",
    "\n",
    "from sklearn.neighbors import KNeighborsRegressor\n",
    "from sklearn.neural_network import MLPRegressor\n",
    "from sklearn.tree import DecisionTreeRegressor, export_graphviz, export_text, plot_tree\n",
    "from sklearn.svm import SVR"
   ]
  },
  {
   "cell_type": "code",
   "execution_count": 3,
   "id": "1fe388cc-6d29-48cc-b3e5-45b57b3bd377",
   "metadata": {},
   "outputs": [],
   "source": [
    "from scipy.stats import zscore\n",
    "import warnings"
   ]
  },
  {
   "cell_type": "code",
   "execution_count": 4,
   "id": "af5a8c12",
   "metadata": {},
   "outputs": [],
   "source": [
    "warnings.filterwarnings('ignore')\n",
    "%matplotlib inline"
   ]
  },
  {
   "cell_type": "markdown",
   "id": "696bf79d",
   "metadata": {},
   "source": [
    "## Load Dataset"
   ]
  },
  {
   "cell_type": "code",
   "execution_count": 5,
   "id": "82b93197-f62a-48c8-ba05-3558a53bdc90",
   "metadata": {},
   "outputs": [],
   "source": [
    "df_price = pd.read_csv('price_transform.csv')"
   ]
  },
  {
   "cell_type": "code",
   "execution_count": 6,
   "id": "ec682083-e08c-430a-ab25-4d014d249e78",
   "metadata": {},
   "outputs": [],
   "source": [
    "df_price_busan = df_price[df_price['city'] == 0]"
   ]
  },
  {
   "cell_type": "code",
   "execution_count": 7,
   "id": "c807b9c3-6308-4373-b55d-0c2d369b4454",
   "metadata": {},
   "outputs": [
    {
     "data": {
      "text/html": [
       "<div>\n",
       "<style scoped>\n",
       "    .dataframe tbody tr th:only-of-type {\n",
       "        vertical-align: middle;\n",
       "    }\n",
       "\n",
       "    .dataframe tbody tr th {\n",
       "        vertical-align: top;\n",
       "    }\n",
       "\n",
       "    .dataframe thead th {\n",
       "        text-align: right;\n",
       "    }\n",
       "</style>\n",
       "<table border=\"1\" class=\"dataframe\">\n",
       "  <thead>\n",
       "    <tr style=\"text-align: right;\">\n",
       "      <th></th>\n",
       "      <th>key</th>\n",
       "      <th>apartment_id</th>\n",
       "      <th>city</th>\n",
       "      <th>exclusive_use_area</th>\n",
       "      <th>floor</th>\n",
       "      <th>latitude</th>\n",
       "      <th>longitude</th>\n",
       "      <th>address_by_law</th>\n",
       "      <th>total_parking_capacity_in_site</th>\n",
       "      <th>total_household_count_in_sites</th>\n",
       "      <th>...</th>\n",
       "      <th>front_door_structure_stairway</th>\n",
       "      <th>front_door_structure_-</th>\n",
       "      <th>front_door_structure_mixed</th>\n",
       "      <th>heat_type_central</th>\n",
       "      <th>heat_type_individual</th>\n",
       "      <th>heat_type_-</th>\n",
       "      <th>heat_type_district</th>\n",
       "      <th>heat_fuel_gas</th>\n",
       "      <th>heat_fuel_-</th>\n",
       "      <th>heat_fuel_cogeneration</th>\n",
       "    </tr>\n",
       "  </thead>\n",
       "  <tbody>\n",
       "    <tr>\n",
       "      <th>1491</th>\n",
       "      <td>1491</td>\n",
       "      <td>3583</td>\n",
       "      <td>0</td>\n",
       "      <td>0.196117</td>\n",
       "      <td>-0.852127</td>\n",
       "      <td>-1.152681</td>\n",
       "      <td>1.223180</td>\n",
       "      <td>2614010600</td>\n",
       "      <td>-0.546816</td>\n",
       "      <td>-0.547497</td>\n",
       "      <td>...</td>\n",
       "      <td>1</td>\n",
       "      <td>0</td>\n",
       "      <td>0</td>\n",
       "      <td>0</td>\n",
       "      <td>1</td>\n",
       "      <td>0</td>\n",
       "      <td>0</td>\n",
       "      <td>1</td>\n",
       "      <td>0</td>\n",
       "      <td>0</td>\n",
       "    </tr>\n",
       "    <tr>\n",
       "      <th>1492</th>\n",
       "      <td>1492</td>\n",
       "      <td>11211</td>\n",
       "      <td>0</td>\n",
       "      <td>1.115385</td>\n",
       "      <td>0.120889</td>\n",
       "      <td>-1.151880</td>\n",
       "      <td>1.223050</td>\n",
       "      <td>2614010600</td>\n",
       "      <td>-0.595315</td>\n",
       "      <td>-0.820525</td>\n",
       "      <td>...</td>\n",
       "      <td>1</td>\n",
       "      <td>0</td>\n",
       "      <td>0</td>\n",
       "      <td>0</td>\n",
       "      <td>1</td>\n",
       "      <td>0</td>\n",
       "      <td>0</td>\n",
       "      <td>1</td>\n",
       "      <td>0</td>\n",
       "      <td>0</td>\n",
       "    </tr>\n",
       "    <tr>\n",
       "      <th>1493</th>\n",
       "      <td>1493</td>\n",
       "      <td>11731</td>\n",
       "      <td>0</td>\n",
       "      <td>-1.101359</td>\n",
       "      <td>0.120889</td>\n",
       "      <td>-1.179418</td>\n",
       "      <td>1.231544</td>\n",
       "      <td>2614012400</td>\n",
       "      <td>-0.742160</td>\n",
       "      <td>-0.785953</td>\n",
       "      <td>...</td>\n",
       "      <td>0</td>\n",
       "      <td>0</td>\n",
       "      <td>0</td>\n",
       "      <td>0</td>\n",
       "      <td>1</td>\n",
       "      <td>0</td>\n",
       "      <td>0</td>\n",
       "      <td>0</td>\n",
       "      <td>1</td>\n",
       "      <td>0</td>\n",
       "    </tr>\n",
       "    <tr>\n",
       "      <th>1993</th>\n",
       "      <td>1993</td>\n",
       "      <td>9380</td>\n",
       "      <td>0</td>\n",
       "      <td>-0.504584</td>\n",
       "      <td>-0.852127</td>\n",
       "      <td>-1.177814</td>\n",
       "      <td>1.282234</td>\n",
       "      <td>2620012100</td>\n",
       "      <td>-0.857346</td>\n",
       "      <td>-0.919807</td>\n",
       "      <td>...</td>\n",
       "      <td>1</td>\n",
       "      <td>0</td>\n",
       "      <td>0</td>\n",
       "      <td>0</td>\n",
       "      <td>1</td>\n",
       "      <td>0</td>\n",
       "      <td>0</td>\n",
       "      <td>1</td>\n",
       "      <td>0</td>\n",
       "      <td>0</td>\n",
       "    </tr>\n",
       "    <tr>\n",
       "      <th>1994</th>\n",
       "      <td>1994</td>\n",
       "      <td>35014</td>\n",
       "      <td>0</td>\n",
       "      <td>-1.054574</td>\n",
       "      <td>-1.269134</td>\n",
       "      <td>-1.176829</td>\n",
       "      <td>1.277556</td>\n",
       "      <td>2620012100</td>\n",
       "      <td>0.097818</td>\n",
       "      <td>2.547994</td>\n",
       "      <td>...</td>\n",
       "      <td>0</td>\n",
       "      <td>0</td>\n",
       "      <td>0</td>\n",
       "      <td>0</td>\n",
       "      <td>1</td>\n",
       "      <td>0</td>\n",
       "      <td>0</td>\n",
       "      <td>1</td>\n",
       "      <td>0</td>\n",
       "      <td>0</td>\n",
       "    </tr>\n",
       "  </tbody>\n",
       "</table>\n",
       "<p>5 rows × 40 columns</p>\n",
       "</div>"
      ],
      "text/plain": [
       "       key  apartment_id  city  exclusive_use_area     floor  latitude  \\\n",
       "1491  1491          3583     0            0.196117 -0.852127 -1.152681   \n",
       "1492  1492         11211     0            1.115385  0.120889 -1.151880   \n",
       "1493  1493         11731     0           -1.101359  0.120889 -1.179418   \n",
       "1993  1993          9380     0           -0.504584 -0.852127 -1.177814   \n",
       "1994  1994         35014     0           -1.054574 -1.269134 -1.176829   \n",
       "\n",
       "      longitude  address_by_law  total_parking_capacity_in_site  \\\n",
       "1491   1.223180      2614010600                       -0.546816   \n",
       "1492   1.223050      2614010600                       -0.595315   \n",
       "1493   1.231544      2614012400                       -0.742160   \n",
       "1993   1.282234      2620012100                       -0.857346   \n",
       "1994   1.277556      2620012100                        0.097818   \n",
       "\n",
       "      total_household_count_in_sites  ...  front_door_structure_stairway  \\\n",
       "1491                       -0.547497  ...                              1   \n",
       "1492                       -0.820525  ...                              1   \n",
       "1493                       -0.785953  ...                              0   \n",
       "1993                       -0.919807  ...                              1   \n",
       "1994                        2.547994  ...                              0   \n",
       "\n",
       "      front_door_structure_-  front_door_structure_mixed  heat_type_central  \\\n",
       "1491                       0                           0                  0   \n",
       "1492                       0                           0                  0   \n",
       "1493                       0                           0                  0   \n",
       "1993                       0                           0                  0   \n",
       "1994                       0                           0                  0   \n",
       "\n",
       "      heat_type_individual  heat_type_-  heat_type_district  heat_fuel_gas  \\\n",
       "1491                     1            0                   0              1   \n",
       "1492                     1            0                   0              1   \n",
       "1493                     1            0                   0              0   \n",
       "1993                     1            0                   0              1   \n",
       "1994                     1            0                   0              1   \n",
       "\n",
       "      heat_fuel_-  heat_fuel_cogeneration  \n",
       "1491            0                       0  \n",
       "1492            0                       0  \n",
       "1493            1                       0  \n",
       "1993            0                       0  \n",
       "1994            0                       0  \n",
       "\n",
       "[5 rows x 40 columns]"
      ]
     },
     "execution_count": 7,
     "metadata": {},
     "output_type": "execute_result"
    }
   ],
   "source": [
    "df_price_busan.head()"
   ]
  },
  {
   "cell_type": "markdown",
   "id": "36fee0e0",
   "metadata": {},
   "source": [
    "## Train-test split"
   ]
  },
  {
   "cell_type": "code",
   "execution_count": 8,
   "id": "746040b9-b900-4d26-8a80-ea8a306d453f",
   "metadata": {},
   "outputs": [],
   "source": [
    "_ = df_price_busan.copy().drop([\n",
    "    'transaction_real_price',\n",
    "    'apartment_id',\n",
    "    'room_id',\n",
    "    'key',\n",
    "    'address_by_law'\n",
    "], axis=1)\n",
    "X_train, X_test, y_train, y_test = train_test_split(_, df_price_busan['transaction_real_price'])"
   ]
  },
  {
   "cell_type": "markdown",
   "id": "0da7a808",
   "metadata": {},
   "source": [
    "## No Prediction"
   ]
  },
  {
   "cell_type": "code",
   "execution_count": 9,
   "id": "fb3beaa8",
   "metadata": {},
   "outputs": [
    {
     "data": {
      "text/plain": [
       "-5.325297225855508e-06"
      ]
     },
     "execution_count": 9,
     "metadata": {},
     "output_type": "execute_result"
    }
   ],
   "source": [
    "y_mean = sum(y_train)/len(y_train)\n",
    "r2_score(y_test, [y_mean] * len(y_test))"
   ]
  },
  {
   "cell_type": "markdown",
   "id": "bbcc7f84",
   "metadata": {},
   "source": [
    "## Raw Prediction"
   ]
  },
  {
   "cell_type": "code",
   "execution_count": 10,
   "id": "c5b363f0",
   "metadata": {},
   "outputs": [],
   "source": [
    "def regression_report(y_test, y_pred):\n",
    "    mse = mean_squared_error(y_test, y_pred)\n",
    "    mae = mean_absolute_error(y_test, y_pred)\n",
    "    r2 = r2_score(y_test, y_pred)\n",
    "    explained = explained_variance_score(y_test, y_pred)\n",
    "    return \"\"\"mse: %.3f\n",
    "mae: %.3f\n",
    "r2: %.3f\n",
    "explained variance score: %.3f\n",
    "\"\"\" % (mse, mae, r2, explained)"
   ]
  },
  {
   "cell_type": "code",
   "execution_count": 11,
   "id": "58ab08be",
   "metadata": {},
   "outputs": [],
   "source": [
    "def predict_with_regressor(regressor, X_train, X_test, y_train, y_test):\n",
    "    y_pred = regressor.fit(X_train, y_train).predict(X_test)\n",
    "    return regression_report(y_test, y_pred)"
   ]
  },
  {
   "cell_type": "code",
   "execution_count": 12,
   "id": "b929fe33",
   "metadata": {},
   "outputs": [],
   "source": [
    "def predict_with_regressors(regressors, X_train, X_test, y_train, y_test):\n",
    "    for regressor in regressors(0):\n",
    "        print(\"**\" + regressor.__class__.__name__ + \"**\")\n",
    "        print(predict_with_regressor(regressor, X_train, X_test, y_train, y_test))"
   ]
  },
  {
   "cell_type": "code",
   "execution_count": 13,
   "id": "617cbebd",
   "metadata": {},
   "outputs": [],
   "source": [
    "get_regressors = lambda _: [\n",
    "    LinearRegression(),\n",
    "    BayesianRidge(),\n",
    "    DecisionTreeRegressor()\n",
    "]"
   ]
  },
  {
   "cell_type": "code",
   "execution_count": 14,
   "id": "82981ae3",
   "metadata": {},
   "outputs": [
    {
     "name": "stdout",
     "output_type": "stream",
     "text": [
      "**LinearRegression**\n",
      "mse: 5201173462935936.000\n",
      "mae: 47120539.298\n",
      "r2: 0.815\n",
      "explained variance score: 0.815\n",
      "\n",
      "**BayesianRidge**\n",
      "mse: 5201155372050459.000\n",
      "mae: 47119659.779\n",
      "r2: 0.815\n",
      "explained variance score: 0.815\n",
      "\n",
      "**DecisionTreeRegressor**\n",
      "mse: 476098822401437.750\n",
      "mae: 10641131.908\n",
      "r2: 0.983\n",
      "explained variance score: 0.983\n",
      "\n"
     ]
    }
   ],
   "source": [
    "predict_with_regressors(get_regressors, X_train, X_test, y_train, y_test)"
   ]
  },
  {
   "cell_type": "markdown",
   "id": "51ec2240",
   "metadata": {},
   "source": [
    "## Dimensionality Reduction via Regression"
   ]
  },
  {
   "cell_type": "markdown",
   "id": "b22442e4",
   "metadata": {},
   "source": [
    "Since Decision Tree has the best result, use the first 5 important features to reduce the dimension."
   ]
  },
  {
   "cell_type": "code",
   "execution_count": 15,
   "id": "1f3ccd7f-b833-49d1-a96e-95b9f644aa2e",
   "metadata": {},
   "outputs": [
    {
     "name": "stdout",
     "output_type": "stream",
     "text": [
      "mse: 474673966903271.312\n",
      "mae: 10625862.877\n",
      "r2: 0.983\n",
      "explained variance score: 0.983\n",
      "\n"
     ]
    }
   ],
   "source": [
    "dtr = DecisionTreeRegressor()\n",
    "print(predict_with_regressor(dtr, X_train, X_test, y_train, y_test))"
   ]
  },
  {
   "cell_type": "code",
   "execution_count": 16,
   "id": "a3403137-62cc-4293-aa3f-83aae1bd5ef1",
   "metadata": {},
   "outputs": [
    {
     "data": {
      "text/html": [
       "<div>\n",
       "<style scoped>\n",
       "    .dataframe tbody tr th:only-of-type {\n",
       "        vertical-align: middle;\n",
       "    }\n",
       "\n",
       "    .dataframe tbody tr th {\n",
       "        vertical-align: top;\n",
       "    }\n",
       "\n",
       "    .dataframe thead th {\n",
       "        text-align: right;\n",
       "    }\n",
       "</style>\n",
       "<table border=\"1\" class=\"dataframe\">\n",
       "  <thead>\n",
       "    <tr style=\"text-align: right;\">\n",
       "      <th></th>\n",
       "      <th>feature</th>\n",
       "      <th>importance</th>\n",
       "    </tr>\n",
       "  </thead>\n",
       "  <tbody>\n",
       "    <tr>\n",
       "      <th>10</th>\n",
       "      <td>supply_area</td>\n",
       "      <td>0.619021</td>\n",
       "    </tr>\n",
       "    <tr>\n",
       "      <th>8</th>\n",
       "      <td>tallest_building_in_sites</td>\n",
       "      <td>0.137947</td>\n",
       "    </tr>\n",
       "    <tr>\n",
       "      <th>14</th>\n",
       "      <td>transaction_year</td>\n",
       "      <td>0.100199</td>\n",
       "    </tr>\n",
       "    <tr>\n",
       "      <th>4</th>\n",
       "      <td>longitude</td>\n",
       "      <td>0.026322</td>\n",
       "    </tr>\n",
       "    <tr>\n",
       "      <th>17</th>\n",
       "      <td>building_age</td>\n",
       "      <td>0.020117</td>\n",
       "    </tr>\n",
       "  </tbody>\n",
       "</table>\n",
       "</div>"
      ],
      "text/plain": [
       "                      feature  importance\n",
       "10                supply_area    0.619021\n",
       "8   tallest_building_in_sites    0.137947\n",
       "14           transaction_year    0.100199\n",
       "4                   longitude    0.026322\n",
       "17               building_age    0.020117"
      ]
     },
     "execution_count": 16,
     "metadata": {},
     "output_type": "execute_result"
    }
   ],
   "source": [
    "pd.DataFrame({\n",
    "    'feature': dtr.feature_names_in_, \n",
    "    'importance':dtr.feature_importances_\n",
    "}).sort_values('importance', ascending=False).head()"
   ]
  },
  {
   "cell_type": "markdown",
   "id": "f1e71bd5",
   "metadata": {},
   "source": [
    "## Further Prediction with Reduced Dimension"
   ]
  },
  {
   "cell_type": "code",
   "execution_count": 17,
   "id": "683fce3a",
   "metadata": {},
   "outputs": [],
   "source": [
    "important_features = ['supply_area', 'tallest_building_in_sites', 'transaction_year', 'longitude', 'building_age']\n",
    "X_train_dim = X_train[important_features]\n",
    "X_test_dim = X_test[important_features]"
   ]
  },
  {
   "cell_type": "code",
   "execution_count": 18,
   "id": "3695440b",
   "metadata": {},
   "outputs": [],
   "source": [
    "get_dim_regressors = lambda _: [\n",
    "    LinearRegression(),\n",
    "    BayesianRidge(),\n",
    "    DecisionTreeRegressor(),\n",
    "    KNeighborsRegressor()\n",
    "]"
   ]
  },
  {
   "cell_type": "code",
   "execution_count": 19,
   "id": "252b32e7",
   "metadata": {},
   "outputs": [
    {
     "name": "stdout",
     "output_type": "stream",
     "text": [
      "**LinearRegression**\n",
      "mse: 5974774662004390.000\n",
      "mae: 49622903.111\n",
      "r2: 0.787\n",
      "explained variance score: 0.787\n",
      "\n",
      "**BayesianRidge**\n",
      "mse: 5974772877852267.000\n",
      "mae: 49622760.895\n",
      "r2: 0.787\n",
      "explained variance score: 0.787\n",
      "\n",
      "**DecisionTreeRegressor**\n",
      "mse: 617449677325881.875\n",
      "mae: 14176565.927\n",
      "r2: 0.978\n",
      "explained variance score: 0.978\n",
      "\n",
      "**KNeighborsRegressor**\n",
      "mse: 884287691215155.000\n",
      "mae: 16455396.169\n",
      "r2: 0.968\n",
      "explained variance score: 0.968\n",
      "\n"
     ]
    }
   ],
   "source": [
    "predict_with_regressors(get_dim_regressors, X_train_dim, X_test_dim, y_train, y_test)"
   ]
  },
  {
   "cell_type": "markdown",
   "id": "548e5137",
   "metadata": {},
   "source": [
    "## Extreme Reduce Features"
   ]
  },
  {
   "cell_type": "code",
   "execution_count": 20,
   "id": "14279f58",
   "metadata": {},
   "outputs": [],
   "source": [
    "important_features = ['supply_area', 'tallest_building_in_sites']\n",
    "X_train_2d = X_train[important_features]\n",
    "X_test_2d = X_test[important_features]"
   ]
  },
  {
   "cell_type": "code",
   "execution_count": 21,
   "id": "b2e0f61a",
   "metadata": {},
   "outputs": [
    {
     "name": "stdout",
     "output_type": "stream",
     "text": [
      "**LinearRegression**\n",
      "mse: 8832318263101237.000\n",
      "mae: 65500211.627\n",
      "r2: 0.685\n",
      "explained variance score: 0.685\n",
      "\n",
      "**BayesianRidge**\n",
      "mse: 8832317543761653.000\n",
      "mae: 65500195.808\n",
      "r2: 0.685\n",
      "explained variance score: 0.685\n",
      "\n",
      "**DecisionTreeRegressor**\n",
      "mse: 3180286838701959.000\n",
      "mae: 42747100.426\n",
      "r2: 0.887\n",
      "explained variance score: 0.887\n",
      "\n",
      "**KNeighborsRegressor**\n",
      "mse: 3848770870623668.500\n",
      "mae: 46082471.238\n",
      "r2: 0.863\n",
      "explained variance score: 0.863\n",
      "\n"
     ]
    }
   ],
   "source": [
    "predict_with_regressors(get_dim_regressors, X_train_2d, X_test_2d, y_train, y_test)"
   ]
  },
  {
   "cell_type": "code",
   "execution_count": 22,
   "id": "9727ff72",
   "metadata": {},
   "outputs": [
    {
     "name": "stdout",
     "output_type": "stream",
     "text": [
      "**SVR**\n",
      "mse: 30910823246599436.000\n",
      "mae: 113034075.802\n",
      "r2: -0.070\n",
      "explained variance score: 0.000\n",
      "\n",
      "**MLPRegressor**\n",
      "mse: 85416863523307776.000\n",
      "mae: 237800782.117\n",
      "r2: -1.957\n",
      "explained variance score: 0.001\n",
      "\n",
      "None\n"
     ]
    }
   ],
   "source": [
    "# some regressor cannot take too much.  \n",
    "\n",
    "get_limited_regressors = lambda _: [\n",
    "    SVR(), \n",
    "    MLPRegressor()\n",
    "]\n",
    "\n",
    "print(predict_with_regressors(get_limited_regressors, \n",
    "                              X_train_2d[:10_000], \n",
    "                              X_test_2d[:10_000], \n",
    "                              y_train[:10_000], \n",
    "                              y_test[:10_000]))"
   ]
  },
  {
   "cell_type": "code",
   "execution_count": null,
   "id": "b4ed25e1-88cf-4306-b8fc-9a741c18fb41",
   "metadata": {},
   "outputs": [],
   "source": []
  },
  {
   "cell_type": "code",
   "execution_count": null,
   "id": "10c641cf-53a1-42fc-bbfa-e02884d8598b",
   "metadata": {},
   "outputs": [],
   "source": []
  }
 ],
 "metadata": {
  "kernelspec": {
   "display_name": "Python 3 (ipykernel)",
   "language": "python",
   "name": "python3"
  },
  "language_info": {
   "codemirror_mode": {
    "name": "ipython",
    "version": 3
   },
   "file_extension": ".py",
   "mimetype": "text/x-python",
   "name": "python",
   "nbconvert_exporter": "python",
   "pygments_lexer": "ipython3",
   "version": "3.11.4"
  }
 },
 "nbformat": 4,
 "nbformat_minor": 5
}
