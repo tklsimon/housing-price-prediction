{
 "cells": [
  {
   "cell_type": "markdown",
   "id": "9e166679",
   "metadata": {},
   "source": [
    "# Prelimary Prediction"
   ]
  },
  {
   "cell_type": "markdown",
   "id": "246f6bfa",
   "metadata": {},
   "source": [
    "Author: Vincent\n",
    "\n",
    "Last Update: 2024-05-04"
   ]
  },
  {
   "cell_type": "markdown",
   "id": "9f3575fd",
   "metadata": {},
   "source": [
    "## Import Library"
   ]
  },
  {
   "cell_type": "code",
   "execution_count": 1,
   "id": "664ca880-12ff-4fac-9e98-1d67f095d9b8",
   "metadata": {},
   "outputs": [],
   "source": [
    "import pandas as pd\n",
    "import numpy as np\n",
    "import matplotlib.pyplot as plt\n",
    "import seaborn as sns"
   ]
  },
  {
   "cell_type": "code",
   "execution_count": 2,
   "id": "24f6fbe4-05bd-4fd0-86aa-f70a8af1794a",
   "metadata": {},
   "outputs": [],
   "source": [
    "from sklearn.metrics import confusion_matrix, roc_curve, auc\n",
    "from sklearn.metrics import mean_absolute_error, mean_squared_error, r2_score, explained_variance_score\n",
    "\n",
    "from sklearn.linear_model import LinearRegression, Ridge\n",
    "from sklearn.model_selection import train_test_split, GridSearchCV\n",
    "\n",
    "from sklearn.neighbors import KNeighborsRegressor\n",
    "from sklearn.neural_network import MLPRegressor\n",
    "from sklearn.ensemble import RandomForestRegressor, BaggingRegressor, AdaBoostRegressor, GradientBoostingRegressor\n",
    "from sklearn.svm import SVR\n",
    "from sklearn.tree import DecisionTreeRegressor, export_graphviz, export_text, plot_tree\n",
    "\n",
    "from sklearn.cross_decomposition import PLSRegression\n",
    "from sklearn.decomposition import PCA\n",
    "from sklearn.manifold import TSNE"
   ]
  },
  {
   "cell_type": "code",
   "execution_count": 3,
   "id": "1fe388cc-6d29-48cc-b3e5-45b57b3bd377",
   "metadata": {},
   "outputs": [],
   "source": [
    "import warnings\n",
    "from typing import List"
   ]
  },
  {
   "cell_type": "code",
   "execution_count": 4,
   "id": "af5a8c12",
   "metadata": {},
   "outputs": [],
   "source": [
    "warnings.filterwarnings('ignore')\n",
    "%matplotlib inline"
   ]
  },
  {
   "cell_type": "markdown",
   "id": "3053c8fc",
   "metadata": {},
   "source": [
    "## Functions"
   ]
  },
  {
   "cell_type": "code",
   "execution_count": 5,
   "id": "93cc5bd7",
   "metadata": {},
   "outputs": [],
   "source": [
    "def plt_add_labels(x: List[str],\n",
    "                   y: List[int]) -> None:\n",
    "    y_scale = y.mean()/100\n",
    "    for i in range(len(x)):\n",
    "        plt.text(i, y[i]+y_scale, y[i], ha = 'center')\n",
    "\n",
    "def print_missing_val_count(df: pd.DataFrame) -> None:\n",
    "    # Missing value counts\n",
    "    df_na_cnt = df.isnull().sum()\n",
    "    df_record_cnt = df.shape[0]\n",
    "    \n",
    "    # Print the count of missing value for each feature\n",
    "    if df_na_cnt.sum() > 0:\n",
    "        print(\"The following columns have missing values:\")\n",
    "        for col, na_cnt in zip(df_na_cnt.index, df_na_cnt.values):\n",
    "            if na_cnt > 0:\n",
    "                print(f\"{col} has {na_cnt} ({100*na_cnt/df_record_cnt:0.1f}%) missing value.\")\n",
    "    else:\n",
    "        print(\"The dataframe does not have missing values.\")\n",
    "\n",
    "def knn_imputation(df: pd.DataFrame,\n",
    "                   feature_columns: List[str],\n",
    "                   target_column: str) -> None:\n",
    "    \"\"\"\n",
    "    :param df: Dataframe for missing value imputation\n",
    "    :param feature_columns: list of feature names (string) for knn imputation\n",
    "    :param target_column: feature name (string) to be imputed\n",
    "    :return Nothing\n",
    "    \"\"\"\n",
    "    # Fit KNN model with records have non-null value in target column\n",
    "    df_clean = df[~df[target_column].isna()]\n",
    "    knn = KNeighborsRegressor(p=1, n_neighbors=3)\n",
    "    knn.fit(df_clean[feature_columns], df_clean[target_column])\n",
    "    # Predict the missing values\n",
    "    df_miss = df[df[target_column].isna()]\n",
    "    if df_miss.shape[0] > 0:\n",
    "        y_pred = knn.predict(df_miss[feature_columns])\n",
    "        # Impute the missing values\n",
    "        df.loc[df[target_column].isna(), target_column] = y_pred\n",
    "        print(f\"Missing values in {target_column} has been imputed.\")\n",
    "    else:\n",
    "        print(f\"There is no missing values in {target_column}. No action.\")\n",
    "\n",
    "def one_hot_encoding(df: pd.DataFrame,\n",
    "                     column:str) -> pd.DataFrame:\n",
    "    distinct_values = set(df[column])\n",
    "    \n",
    "    for value in distinct_values:\n",
    "        new_column = column + \"_\" + value\n",
    "        df[new_column] = df[column].apply(lambda x: 1 if x == value else 0)\n",
    "    \n",
    "    df = df.drop(column, axis=1)\n",
    "    \n",
    "    return df\n",
    "\n",
    "def regression_report(y_test: List[float],\n",
    "                      y_pred: List[float],\n",
    "                      p: int) -> str:\n",
    "    n = y_test.shape[0]\n",
    "    \n",
    "    root_mse = np.sqrt(mean_squared_error(y_test, y_pred))\n",
    "    mae = mean_absolute_error(y_test, y_pred)\n",
    "    r2 = r2_score(y_test, y_pred)\n",
    "    adj_r2 = 1-(1-r2)*(n-1)/(n-p-1)\n",
    "    \n",
    "    metrics = f\"\\\n",
    "Rooted-MSE: {root_mse:.4}\\n\\\n",
    "MAE: {mae:.4}\\n\\\n",
    "Adjusted R-Squared: {adj_r2:.4f}\"\n",
    "    \n",
    "    return metrics\n",
    "\n",
    "def predict_with_regressor(regressor: \"sklearn.regressor\",\n",
    "                           X_train: pd.DataFrame,\n",
    "                           X_test: pd.DataFrame,\n",
    "                           y_train: List[float],\n",
    "                           y_test: List[float]) -> None:\n",
    "    y_pred = regressor.fit(X_train, y_train).predict(X_test)\n",
    "    \n",
    "    print(\"---------- \" + regressor.__class__.__name__ + \" ----------\")\n",
    "    print(regression_report(y_test, y_pred, X_train.shape[1]))\n",
    "    print(\"\")\n",
    "\n",
    "def predict_with_regressors(regressors, X_train, X_test, y_train, y_test) -> None:\n",
    "    for regressor in regressors(0):\n",
    "        predict_with_regressor(regressor, X_train, X_test, y_train, y_test)"
   ]
  },
  {
   "cell_type": "markdown",
   "id": "696bf79d",
   "metadata": {},
   "source": [
    "## Load Dataset"
   ]
  },
  {
   "cell_type": "code",
   "execution_count": 6,
   "id": "82b93197-f62a-48c8-ba05-3558a53bdc90",
   "metadata": {},
   "outputs": [],
   "source": [
    "df_price = pd.read_csv('price_std.csv')\n",
    "df_school = pd.read_csv('school_std.csv')\n",
    "df_subway = pd.read_csv('subway_std.csv')"
   ]
  },
  {
   "cell_type": "markdown",
   "id": "5c5dbf25",
   "metadata": {},
   "source": [
    "## Train-test split"
   ]
  },
  {
   "cell_type": "code",
   "execution_count": 8,
   "id": "f1aca5be",
   "metadata": {},
   "outputs": [],
   "source": [
    "# X and y dataframe (Without id columns and address by law)\n",
    "X_all = df_price \\\n",
    "    .drop(['apartment_id',\n",
    "           'room_id',\n",
    "           'address_by_law',\n",
    "           'transaction_real_price'],\n",
    "          axis=1)\n",
    "\n",
    "y_all = df_price['transaction_real_price']"
   ]
  },
  {
   "cell_type": "code",
   "execution_count": 9,
   "id": "8d9fb174",
   "metadata": {},
   "outputs": [],
   "source": [
    "# Split the Price data set into training set and test set\n",
    "X_train, X_test, y_train, y_test = train_test_split(X_all, y_all, test_size=0.3, random_state=2024)"
   ]
  },
  {
   "cell_type": "markdown",
   "id": "bbcc7f84",
   "metadata": {},
   "source": [
    "## Basic Models"
   ]
  },
  {
   "cell_type": "code",
   "execution_count": 10,
   "id": "d3e25b8b",
   "metadata": {},
   "outputs": [
    {
     "name": "stdout",
     "output_type": "stream",
     "text": [
      "---------- LinearRegression ----------\n",
      "Rooted-MSE: 1.884e+08\n",
      "MAE: 1.184e+08\n",
      "Adjusted R-Squared: 0.6601\n",
      "\n"
     ]
    }
   ],
   "source": [
    "# Linear Regression\n",
    "predict_with_regressor(\n",
    "    LinearRegression(), \n",
    "    X_train, X_test, y_train, y_test)"
   ]
  },
  {
   "cell_type": "code",
   "execution_count": 11,
   "id": "5e91dfde",
   "metadata": {},
   "outputs": [
    {
     "name": "stdout",
     "output_type": "stream",
     "text": [
      "---------- Ridge ----------\n",
      "Rooted-MSE: 1.894e+08\n",
      "MAE: 1.18e+08\n",
      "Adjusted R-Squared: 0.6567\n",
      "\n"
     ]
    }
   ],
   "source": [
    "# Ridge Regression\n",
    "predict_with_regressor(\n",
    "    Ridge(alpha=100, random_state=2024), \n",
    "    X_train, X_test, y_train, y_test)"
   ]
  },
  {
   "cell_type": "code",
   "execution_count": 12,
   "id": "285d1876",
   "metadata": {},
   "outputs": [
    {
     "name": "stdout",
     "output_type": "stream",
     "text": [
      "---------- DecisionTreeRegressor ----------\n",
      "Rooted-MSE: 4.458e+07\n",
      "MAE: 1.917e+07\n",
      "Adjusted R-Squared: 0.9810\n",
      "\n"
     ]
    }
   ],
   "source": [
    "# Decision Tree\n",
    "predict_with_regressor(\n",
    "    DecisionTreeRegressor(random_state=2024), \n",
    "    X_train, X_test, y_train, y_test)"
   ]
  },
  {
   "cell_type": "code",
   "execution_count": 13,
   "id": "30d2e54a",
   "metadata": {},
   "outputs": [
    {
     "name": "stdout",
     "output_type": "stream",
     "text": [
      "---------- MLPRegressor ----------\n",
      "Rooted-MSE: 1.811e+08\n",
      "MAE: 1.118e+08\n",
      "Adjusted R-Squared: 0.6859\n",
      "\n"
     ]
    }
   ],
   "source": [
    "# Neural Network\n",
    "predict_with_regressor(\n",
    "    MLPRegressor(hidden_layer_sizes=(20,10,5,20,5), max_iter=10), \n",
    "    X_train, X_test, y_train, y_test)"
   ]
  },
  {
   "cell_type": "markdown",
   "id": "de9e367d",
   "metadata": {},
   "source": [
    "## Ensemble Model"
   ]
  },
  {
   "cell_type": "code",
   "execution_count": 14,
   "id": "fe6df4eb",
   "metadata": {},
   "outputs": [
    {
     "name": "stdout",
     "output_type": "stream",
     "text": [
      "---------- RandomForestRegressor ----------\n",
      "Rooted-MSE: 3.509e+07\n",
      "MAE: 1.616e+07\n",
      "Adjusted R-Squared: 0.9882\n",
      "\n"
     ]
    }
   ],
   "source": [
    "forest = RandomForestRegressor(n_estimators = 11, random_state=2024)\n",
    "predict_with_regressor(forest, X_train, X_test, y_train, y_test)"
   ]
  },
  {
   "cell_type": "code",
   "execution_count": 15,
   "id": "0e462450",
   "metadata": {},
   "outputs": [
    {
     "name": "stdout",
     "output_type": "stream",
     "text": [
      "---------- GradientBoostingRegressor ----------\n",
      "Rooted-MSE: 2.151e+08\n",
      "MAE: 1.357e+08\n",
      "Adjusted R-Squared: 0.5570\n",
      "\n"
     ]
    }
   ],
   "source": [
    "gb_reg = GradientBoostingRegressor(n_estimators=11, random_state=2024)\n",
    "predict_with_regressor(gb_reg, X_train, X_test, y_train, y_test)"
   ]
  },
  {
   "cell_type": "code",
   "execution_count": 16,
   "id": "fc4fcc66",
   "metadata": {},
   "outputs": [
    {
     "name": "stdout",
     "output_type": "stream",
     "text": [
      "---------- BaggingRegressor ----------\n",
      "Rooted-MSE: 3.866e+07\n",
      "MAE: 1.979e+07\n",
      "Adjusted R-Squared: 0.9857\n",
      "\n"
     ]
    }
   ],
   "source": [
    "base_regressor = DecisionTreeRegressor(random_state=2024)\n",
    "bagging = BaggingRegressor(base_regressor, n_estimators=11, random_state=2024, bootstrap_features=True)\n",
    "\n",
    "predict_with_regressor(bagging, X_train, X_test, y_train, y_test)"
   ]
  },
  {
   "cell_type": "code",
   "execution_count": 17,
   "id": "1aaf60bb",
   "metadata": {},
   "outputs": [
    {
     "name": "stdout",
     "output_type": "stream",
     "text": [
      "---------- AdaBoostRegressor ----------\n",
      "Rooted-MSE: 3.625e+07\n",
      "MAE: 1.573e+07\n",
      "Adjusted R-Squared: 0.9874\n",
      "\n"
     ]
    }
   ],
   "source": [
    "base_regressor = DecisionTreeRegressor(random_state=2024)\n",
    "adaboost_regressor = AdaBoostRegressor(base_regressor, n_estimators=11, random_state=2024)\n",
    "\n",
    "predict_with_regressor(adaboost_regressor, X_train, X_test, y_train, y_test)"
   ]
  },
  {
   "cell_type": "markdown",
   "id": "aaaf0250",
   "metadata": {},
   "source": [
    "## Drop Highly Correlated Columns"
   ]
  },
  {
   "cell_type": "code",
   "execution_count": 18,
   "id": "c76bf778",
   "metadata": {},
   "outputs": [
    {
     "name": "stdout",
     "output_type": "stream",
     "text": [
      "Columns (left) will be dropped because they are highly correlated to another column (right).\n",
      "latitude : city\n",
      "longitude : city\n",
      "supply_area : exclusive_use_area\n",
      "front_door_structure_stairway : front_door_structure_corridor\n",
      "heat_fuel_gas : heat_type_district\n",
      "heat_fuel_cogeneration : heat_type_district\n"
     ]
    }
   ],
   "source": [
    "# Correlation matrix\n",
    "corr_matrix = X_train.corr().abs()\n",
    "\n",
    "# Upper triangle of correlation matrix\n",
    "upper_corr_matrix = corr_matrix.where(np.triu(np.ones(corr_matrix.shape), k=1).astype(bool))\n",
    "\n",
    "# Features with correlation > 0.9\n",
    "col_to_drop = [col for col in upper_corr_matrix.columns if any(upper_corr_matrix[col] > 0.9)]\n",
    "\n",
    "print(\"Columns (left) will be dropped because they are highly correlated to another column (right).\")\n",
    "for col in col_to_drop:\n",
    "    print(col, \":\", upper_corr_matrix[upper_corr_matrix[col] > 0.9].index[0])"
   ]
  },
  {
   "cell_type": "code",
   "execution_count": 24,
   "id": "c46773fc",
   "metadata": {},
   "outputs": [],
   "source": [
    "# Drop the highly correlated columns\n",
    "X_train.drop(col_to_drop, axis=1, inplace=True)\n",
    "X_test.drop(col_to_drop, axis=1, inplace=True)\n",
    "X_all.drop(col_to_drop, axis=1, inplace=True)"
   ]
  },
  {
   "cell_type": "code",
   "execution_count": null,
   "id": "e3520885",
   "metadata": {},
   "outputs": [],
   "source": []
  },
  {
   "cell_type": "code",
   "execution_count": null,
   "id": "f8ac6489",
   "metadata": {},
   "outputs": [],
   "source": []
  },
  {
   "cell_type": "markdown",
   "id": "f0da26e3",
   "metadata": {},
   "source": [
    "## Feature Importance"
   ]
  },
  {
   "cell_type": "code",
   "execution_count": 20,
   "id": "02286b09",
   "metadata": {},
   "outputs": [
    {
     "data": {
      "text/html": [
       "<style>#sk-container-id-1 {\n",
       "  /* Definition of color scheme common for light and dark mode */\n",
       "  --sklearn-color-text: black;\n",
       "  --sklearn-color-line: gray;\n",
       "  /* Definition of color scheme for unfitted estimators */\n",
       "  --sklearn-color-unfitted-level-0: #fff5e6;\n",
       "  --sklearn-color-unfitted-level-1: #f6e4d2;\n",
       "  --sklearn-color-unfitted-level-2: #ffe0b3;\n",
       "  --sklearn-color-unfitted-level-3: chocolate;\n",
       "  /* Definition of color scheme for fitted estimators */\n",
       "  --sklearn-color-fitted-level-0: #f0f8ff;\n",
       "  --sklearn-color-fitted-level-1: #d4ebff;\n",
       "  --sklearn-color-fitted-level-2: #b3dbfd;\n",
       "  --sklearn-color-fitted-level-3: cornflowerblue;\n",
       "\n",
       "  /* Specific color for light theme */\n",
       "  --sklearn-color-text-on-default-background: var(--sg-text-color, var(--theme-code-foreground, var(--jp-content-font-color1, black)));\n",
       "  --sklearn-color-background: var(--sg-background-color, var(--theme-background, var(--jp-layout-color0, white)));\n",
       "  --sklearn-color-border-box: var(--sg-text-color, var(--theme-code-foreground, var(--jp-content-font-color1, black)));\n",
       "  --sklearn-color-icon: #696969;\n",
       "\n",
       "  @media (prefers-color-scheme: dark) {\n",
       "    /* Redefinition of color scheme for dark theme */\n",
       "    --sklearn-color-text-on-default-background: var(--sg-text-color, var(--theme-code-foreground, var(--jp-content-font-color1, white)));\n",
       "    --sklearn-color-background: var(--sg-background-color, var(--theme-background, var(--jp-layout-color0, #111)));\n",
       "    --sklearn-color-border-box: var(--sg-text-color, var(--theme-code-foreground, var(--jp-content-font-color1, white)));\n",
       "    --sklearn-color-icon: #878787;\n",
       "  }\n",
       "}\n",
       "\n",
       "#sk-container-id-1 {\n",
       "  color: var(--sklearn-color-text);\n",
       "}\n",
       "\n",
       "#sk-container-id-1 pre {\n",
       "  padding: 0;\n",
       "}\n",
       "\n",
       "#sk-container-id-1 input.sk-hidden--visually {\n",
       "  border: 0;\n",
       "  clip: rect(1px 1px 1px 1px);\n",
       "  clip: rect(1px, 1px, 1px, 1px);\n",
       "  height: 1px;\n",
       "  margin: -1px;\n",
       "  overflow: hidden;\n",
       "  padding: 0;\n",
       "  position: absolute;\n",
       "  width: 1px;\n",
       "}\n",
       "\n",
       "#sk-container-id-1 div.sk-dashed-wrapped {\n",
       "  border: 1px dashed var(--sklearn-color-line);\n",
       "  margin: 0 0.4em 0.5em 0.4em;\n",
       "  box-sizing: border-box;\n",
       "  padding-bottom: 0.4em;\n",
       "  background-color: var(--sklearn-color-background);\n",
       "}\n",
       "\n",
       "#sk-container-id-1 div.sk-container {\n",
       "  /* jupyter's `normalize.less` sets `[hidden] { display: none; }`\n",
       "     but bootstrap.min.css set `[hidden] { display: none !important; }`\n",
       "     so we also need the `!important` here to be able to override the\n",
       "     default hidden behavior on the sphinx rendered scikit-learn.org.\n",
       "     See: https://github.com/scikit-learn/scikit-learn/issues/21755 */\n",
       "  display: inline-block !important;\n",
       "  position: relative;\n",
       "}\n",
       "\n",
       "#sk-container-id-1 div.sk-text-repr-fallback {\n",
       "  display: none;\n",
       "}\n",
       "\n",
       "div.sk-parallel-item,\n",
       "div.sk-serial,\n",
       "div.sk-item {\n",
       "  /* draw centered vertical line to link estimators */\n",
       "  background-image: linear-gradient(var(--sklearn-color-text-on-default-background), var(--sklearn-color-text-on-default-background));\n",
       "  background-size: 2px 100%;\n",
       "  background-repeat: no-repeat;\n",
       "  background-position: center center;\n",
       "}\n",
       "\n",
       "/* Parallel-specific style estimator block */\n",
       "\n",
       "#sk-container-id-1 div.sk-parallel-item::after {\n",
       "  content: \"\";\n",
       "  width: 100%;\n",
       "  border-bottom: 2px solid var(--sklearn-color-text-on-default-background);\n",
       "  flex-grow: 1;\n",
       "}\n",
       "\n",
       "#sk-container-id-1 div.sk-parallel {\n",
       "  display: flex;\n",
       "  align-items: stretch;\n",
       "  justify-content: center;\n",
       "  background-color: var(--sklearn-color-background);\n",
       "  position: relative;\n",
       "}\n",
       "\n",
       "#sk-container-id-1 div.sk-parallel-item {\n",
       "  display: flex;\n",
       "  flex-direction: column;\n",
       "}\n",
       "\n",
       "#sk-container-id-1 div.sk-parallel-item:first-child::after {\n",
       "  align-self: flex-end;\n",
       "  width: 50%;\n",
       "}\n",
       "\n",
       "#sk-container-id-1 div.sk-parallel-item:last-child::after {\n",
       "  align-self: flex-start;\n",
       "  width: 50%;\n",
       "}\n",
       "\n",
       "#sk-container-id-1 div.sk-parallel-item:only-child::after {\n",
       "  width: 0;\n",
       "}\n",
       "\n",
       "/* Serial-specific style estimator block */\n",
       "\n",
       "#sk-container-id-1 div.sk-serial {\n",
       "  display: flex;\n",
       "  flex-direction: column;\n",
       "  align-items: center;\n",
       "  background-color: var(--sklearn-color-background);\n",
       "  padding-right: 1em;\n",
       "  padding-left: 1em;\n",
       "}\n",
       "\n",
       "\n",
       "/* Toggleable style: style used for estimator/Pipeline/ColumnTransformer box that is\n",
       "clickable and can be expanded/collapsed.\n",
       "- Pipeline and ColumnTransformer use this feature and define the default style\n",
       "- Estimators will overwrite some part of the style using the `sk-estimator` class\n",
       "*/\n",
       "\n",
       "/* Pipeline and ColumnTransformer style (default) */\n",
       "\n",
       "#sk-container-id-1 div.sk-toggleable {\n",
       "  /* Default theme specific background. It is overwritten whether we have a\n",
       "  specific estimator or a Pipeline/ColumnTransformer */\n",
       "  background-color: var(--sklearn-color-background);\n",
       "}\n",
       "\n",
       "/* Toggleable label */\n",
       "#sk-container-id-1 label.sk-toggleable__label {\n",
       "  cursor: pointer;\n",
       "  display: block;\n",
       "  width: 100%;\n",
       "  margin-bottom: 0;\n",
       "  padding: 0.5em;\n",
       "  box-sizing: border-box;\n",
       "  text-align: center;\n",
       "}\n",
       "\n",
       "#sk-container-id-1 label.sk-toggleable__label-arrow:before {\n",
       "  /* Arrow on the left of the label */\n",
       "  content: \"▸\";\n",
       "  float: left;\n",
       "  margin-right: 0.25em;\n",
       "  color: var(--sklearn-color-icon);\n",
       "}\n",
       "\n",
       "#sk-container-id-1 label.sk-toggleable__label-arrow:hover:before {\n",
       "  color: var(--sklearn-color-text);\n",
       "}\n",
       "\n",
       "/* Toggleable content - dropdown */\n",
       "\n",
       "#sk-container-id-1 div.sk-toggleable__content {\n",
       "  max-height: 0;\n",
       "  max-width: 0;\n",
       "  overflow: hidden;\n",
       "  text-align: left;\n",
       "  /* unfitted */\n",
       "  background-color: var(--sklearn-color-unfitted-level-0);\n",
       "}\n",
       "\n",
       "#sk-container-id-1 div.sk-toggleable__content.fitted {\n",
       "  /* fitted */\n",
       "  background-color: var(--sklearn-color-fitted-level-0);\n",
       "}\n",
       "\n",
       "#sk-container-id-1 div.sk-toggleable__content pre {\n",
       "  margin: 0.2em;\n",
       "  border-radius: 0.25em;\n",
       "  color: var(--sklearn-color-text);\n",
       "  /* unfitted */\n",
       "  background-color: var(--sklearn-color-unfitted-level-0);\n",
       "}\n",
       "\n",
       "#sk-container-id-1 div.sk-toggleable__content.fitted pre {\n",
       "  /* unfitted */\n",
       "  background-color: var(--sklearn-color-fitted-level-0);\n",
       "}\n",
       "\n",
       "#sk-container-id-1 input.sk-toggleable__control:checked~div.sk-toggleable__content {\n",
       "  /* Expand drop-down */\n",
       "  max-height: 200px;\n",
       "  max-width: 100%;\n",
       "  overflow: auto;\n",
       "}\n",
       "\n",
       "#sk-container-id-1 input.sk-toggleable__control:checked~label.sk-toggleable__label-arrow:before {\n",
       "  content: \"▾\";\n",
       "}\n",
       "\n",
       "/* Pipeline/ColumnTransformer-specific style */\n",
       "\n",
       "#sk-container-id-1 div.sk-label input.sk-toggleable__control:checked~label.sk-toggleable__label {\n",
       "  color: var(--sklearn-color-text);\n",
       "  background-color: var(--sklearn-color-unfitted-level-2);\n",
       "}\n",
       "\n",
       "#sk-container-id-1 div.sk-label.fitted input.sk-toggleable__control:checked~label.sk-toggleable__label {\n",
       "  background-color: var(--sklearn-color-fitted-level-2);\n",
       "}\n",
       "\n",
       "/* Estimator-specific style */\n",
       "\n",
       "/* Colorize estimator box */\n",
       "#sk-container-id-1 div.sk-estimator input.sk-toggleable__control:checked~label.sk-toggleable__label {\n",
       "  /* unfitted */\n",
       "  background-color: var(--sklearn-color-unfitted-level-2);\n",
       "}\n",
       "\n",
       "#sk-container-id-1 div.sk-estimator.fitted input.sk-toggleable__control:checked~label.sk-toggleable__label {\n",
       "  /* fitted */\n",
       "  background-color: var(--sklearn-color-fitted-level-2);\n",
       "}\n",
       "\n",
       "#sk-container-id-1 div.sk-label label.sk-toggleable__label,\n",
       "#sk-container-id-1 div.sk-label label {\n",
       "  /* The background is the default theme color */\n",
       "  color: var(--sklearn-color-text-on-default-background);\n",
       "}\n",
       "\n",
       "/* On hover, darken the color of the background */\n",
       "#sk-container-id-1 div.sk-label:hover label.sk-toggleable__label {\n",
       "  color: var(--sklearn-color-text);\n",
       "  background-color: var(--sklearn-color-unfitted-level-2);\n",
       "}\n",
       "\n",
       "/* Label box, darken color on hover, fitted */\n",
       "#sk-container-id-1 div.sk-label.fitted:hover label.sk-toggleable__label.fitted {\n",
       "  color: var(--sklearn-color-text);\n",
       "  background-color: var(--sklearn-color-fitted-level-2);\n",
       "}\n",
       "\n",
       "/* Estimator label */\n",
       "\n",
       "#sk-container-id-1 div.sk-label label {\n",
       "  font-family: monospace;\n",
       "  font-weight: bold;\n",
       "  display: inline-block;\n",
       "  line-height: 1.2em;\n",
       "}\n",
       "\n",
       "#sk-container-id-1 div.sk-label-container {\n",
       "  text-align: center;\n",
       "}\n",
       "\n",
       "/* Estimator-specific */\n",
       "#sk-container-id-1 div.sk-estimator {\n",
       "  font-family: monospace;\n",
       "  border: 1px dotted var(--sklearn-color-border-box);\n",
       "  border-radius: 0.25em;\n",
       "  box-sizing: border-box;\n",
       "  margin-bottom: 0.5em;\n",
       "  /* unfitted */\n",
       "  background-color: var(--sklearn-color-unfitted-level-0);\n",
       "}\n",
       "\n",
       "#sk-container-id-1 div.sk-estimator.fitted {\n",
       "  /* fitted */\n",
       "  background-color: var(--sklearn-color-fitted-level-0);\n",
       "}\n",
       "\n",
       "/* on hover */\n",
       "#sk-container-id-1 div.sk-estimator:hover {\n",
       "  /* unfitted */\n",
       "  background-color: var(--sklearn-color-unfitted-level-2);\n",
       "}\n",
       "\n",
       "#sk-container-id-1 div.sk-estimator.fitted:hover {\n",
       "  /* fitted */\n",
       "  background-color: var(--sklearn-color-fitted-level-2);\n",
       "}\n",
       "\n",
       "/* Specification for estimator info (e.g. \"i\" and \"?\") */\n",
       "\n",
       "/* Common style for \"i\" and \"?\" */\n",
       "\n",
       ".sk-estimator-doc-link,\n",
       "a:link.sk-estimator-doc-link,\n",
       "a:visited.sk-estimator-doc-link {\n",
       "  float: right;\n",
       "  font-size: smaller;\n",
       "  line-height: 1em;\n",
       "  font-family: monospace;\n",
       "  background-color: var(--sklearn-color-background);\n",
       "  border-radius: 1em;\n",
       "  height: 1em;\n",
       "  width: 1em;\n",
       "  text-decoration: none !important;\n",
       "  margin-left: 1ex;\n",
       "  /* unfitted */\n",
       "  border: var(--sklearn-color-unfitted-level-1) 1pt solid;\n",
       "  color: var(--sklearn-color-unfitted-level-1);\n",
       "}\n",
       "\n",
       ".sk-estimator-doc-link.fitted,\n",
       "a:link.sk-estimator-doc-link.fitted,\n",
       "a:visited.sk-estimator-doc-link.fitted {\n",
       "  /* fitted */\n",
       "  border: var(--sklearn-color-fitted-level-1) 1pt solid;\n",
       "  color: var(--sklearn-color-fitted-level-1);\n",
       "}\n",
       "\n",
       "/* On hover */\n",
       "div.sk-estimator:hover .sk-estimator-doc-link:hover,\n",
       ".sk-estimator-doc-link:hover,\n",
       "div.sk-label-container:hover .sk-estimator-doc-link:hover,\n",
       ".sk-estimator-doc-link:hover {\n",
       "  /* unfitted */\n",
       "  background-color: var(--sklearn-color-unfitted-level-3);\n",
       "  color: var(--sklearn-color-background);\n",
       "  text-decoration: none;\n",
       "}\n",
       "\n",
       "div.sk-estimator.fitted:hover .sk-estimator-doc-link.fitted:hover,\n",
       ".sk-estimator-doc-link.fitted:hover,\n",
       "div.sk-label-container:hover .sk-estimator-doc-link.fitted:hover,\n",
       ".sk-estimator-doc-link.fitted:hover {\n",
       "  /* fitted */\n",
       "  background-color: var(--sklearn-color-fitted-level-3);\n",
       "  color: var(--sklearn-color-background);\n",
       "  text-decoration: none;\n",
       "}\n",
       "\n",
       "/* Span, style for the box shown on hovering the info icon */\n",
       ".sk-estimator-doc-link span {\n",
       "  display: none;\n",
       "  z-index: 9999;\n",
       "  position: relative;\n",
       "  font-weight: normal;\n",
       "  right: .2ex;\n",
       "  padding: .5ex;\n",
       "  margin: .5ex;\n",
       "  width: min-content;\n",
       "  min-width: 20ex;\n",
       "  max-width: 50ex;\n",
       "  color: var(--sklearn-color-text);\n",
       "  box-shadow: 2pt 2pt 4pt #999;\n",
       "  /* unfitted */\n",
       "  background: var(--sklearn-color-unfitted-level-0);\n",
       "  border: .5pt solid var(--sklearn-color-unfitted-level-3);\n",
       "}\n",
       "\n",
       ".sk-estimator-doc-link.fitted span {\n",
       "  /* fitted */\n",
       "  background: var(--sklearn-color-fitted-level-0);\n",
       "  border: var(--sklearn-color-fitted-level-3);\n",
       "}\n",
       "\n",
       ".sk-estimator-doc-link:hover span {\n",
       "  display: block;\n",
       "}\n",
       "\n",
       "/* \"?\"-specific style due to the `<a>` HTML tag */\n",
       "\n",
       "#sk-container-id-1 a.estimator_doc_link {\n",
       "  float: right;\n",
       "  font-size: 1rem;\n",
       "  line-height: 1em;\n",
       "  font-family: monospace;\n",
       "  background-color: var(--sklearn-color-background);\n",
       "  border-radius: 1rem;\n",
       "  height: 1rem;\n",
       "  width: 1rem;\n",
       "  text-decoration: none;\n",
       "  /* unfitted */\n",
       "  color: var(--sklearn-color-unfitted-level-1);\n",
       "  border: var(--sklearn-color-unfitted-level-1) 1pt solid;\n",
       "}\n",
       "\n",
       "#sk-container-id-1 a.estimator_doc_link.fitted {\n",
       "  /* fitted */\n",
       "  border: var(--sklearn-color-fitted-level-1) 1pt solid;\n",
       "  color: var(--sklearn-color-fitted-level-1);\n",
       "}\n",
       "\n",
       "/* On hover */\n",
       "#sk-container-id-1 a.estimator_doc_link:hover {\n",
       "  /* unfitted */\n",
       "  background-color: var(--sklearn-color-unfitted-level-3);\n",
       "  color: var(--sklearn-color-background);\n",
       "  text-decoration: none;\n",
       "}\n",
       "\n",
       "#sk-container-id-1 a.estimator_doc_link.fitted:hover {\n",
       "  /* fitted */\n",
       "  background-color: var(--sklearn-color-fitted-level-3);\n",
       "}\n",
       "</style><div id=\"sk-container-id-1\" class=\"sk-top-container\"><div class=\"sk-text-repr-fallback\"><pre>DecisionTreeRegressor(max_depth=10, random_state=2024)</pre><b>In a Jupyter environment, please rerun this cell to show the HTML representation or trust the notebook. <br />On GitHub, the HTML representation is unable to render, please try loading this page with nbviewer.org.</b></div><div class=\"sk-container\" hidden><div class=\"sk-item\"><div class=\"sk-estimator fitted sk-toggleable\"><input class=\"sk-toggleable__control sk-hidden--visually\" id=\"sk-estimator-id-1\" type=\"checkbox\" checked><label for=\"sk-estimator-id-1\" class=\"sk-toggleable__label fitted sk-toggleable__label-arrow fitted\">&nbsp;&nbsp;DecisionTreeRegressor<a class=\"sk-estimator-doc-link fitted\" rel=\"noreferrer\" target=\"_blank\" href=\"https://scikit-learn.org/1.4/modules/generated/sklearn.tree.DecisionTreeRegressor.html\">?<span>Documentation for DecisionTreeRegressor</span></a><span class=\"sk-estimator-doc-link fitted\">i<span>Fitted</span></span></label><div class=\"sk-toggleable__content fitted\"><pre>DecisionTreeRegressor(max_depth=10, random_state=2024)</pre></div> </div></div></div></div>"
      ],
      "text/plain": [
       "DecisionTreeRegressor(max_depth=10, random_state=2024)"
      ]
     },
     "execution_count": 20,
     "metadata": {},
     "output_type": "execute_result"
    }
   ],
   "source": [
    "# Decision Tree\n",
    "dtr = DecisionTreeRegressor(max_depth=10, random_state=2024)\n",
    "dtr.fit(X_train, y_train)"
   ]
  },
  {
   "cell_type": "code",
   "execution_count": 21,
   "id": "dbf8cad2",
   "metadata": {},
   "outputs": [
    {
     "data": {
      "text/html": [
       "<div>\n",
       "<style scoped>\n",
       "    .dataframe tbody tr th:only-of-type {\n",
       "        vertical-align: middle;\n",
       "    }\n",
       "\n",
       "    .dataframe tbody tr th {\n",
       "        vertical-align: top;\n",
       "    }\n",
       "\n",
       "    .dataframe thead th {\n",
       "        text-align: right;\n",
       "    }\n",
       "</style>\n",
       "<table border=\"1\" class=\"dataframe\">\n",
       "  <thead>\n",
       "    <tr style=\"text-align: right;\">\n",
       "      <th></th>\n",
       "      <th>feature</th>\n",
       "      <th>importance</th>\n",
       "    </tr>\n",
       "  </thead>\n",
       "  <tbody>\n",
       "    <tr>\n",
       "      <th>1</th>\n",
       "      <td>exclusive_use_area</td>\n",
       "      <td>0.409497</td>\n",
       "    </tr>\n",
       "    <tr>\n",
       "      <th>0</th>\n",
       "      <td>city</td>\n",
       "      <td>0.230578</td>\n",
       "    </tr>\n",
       "    <tr>\n",
       "      <th>3</th>\n",
       "      <td>total_parking_capacity_in_site</td>\n",
       "      <td>0.068032</td>\n",
       "    </tr>\n",
       "    <tr>\n",
       "      <th>11</th>\n",
       "      <td>transaction_year</td>\n",
       "      <td>0.058225</td>\n",
       "    </tr>\n",
       "    <tr>\n",
       "      <th>23</th>\n",
       "      <td>heat_type_district</td>\n",
       "      <td>0.050636</td>\n",
       "    </tr>\n",
       "    <tr>\n",
       "      <th>6</th>\n",
       "      <td>tallest_building_in_sites</td>\n",
       "      <td>0.049093</td>\n",
       "    </tr>\n",
       "    <tr>\n",
       "      <th>5</th>\n",
       "      <td>apartment_building_count_in_sites</td>\n",
       "      <td>0.030200</td>\n",
       "    </tr>\n",
       "    <tr>\n",
       "      <th>13</th>\n",
       "      <td>building_age</td>\n",
       "      <td>0.027536</td>\n",
       "    </tr>\n",
       "    <tr>\n",
       "      <th>7</th>\n",
       "      <td>lowest_building_in_sites</td>\n",
       "      <td>0.021884</td>\n",
       "    </tr>\n",
       "    <tr>\n",
       "      <th>4</th>\n",
       "      <td>total_household_count_in_sites</td>\n",
       "      <td>0.011557</td>\n",
       "    </tr>\n",
       "  </tbody>\n",
       "</table>\n",
       "</div>"
      ],
      "text/plain": [
       "                              feature  importance\n",
       "1                  exclusive_use_area    0.409497\n",
       "0                                city    0.230578\n",
       "3      total_parking_capacity_in_site    0.068032\n",
       "11                   transaction_year    0.058225\n",
       "23                 heat_type_district    0.050636\n",
       "6           tallest_building_in_sites    0.049093\n",
       "5   apartment_building_count_in_sites    0.030200\n",
       "13                       building_age    0.027536\n",
       "7            lowest_building_in_sites    0.021884\n",
       "4      total_household_count_in_sites    0.011557"
      ]
     },
     "execution_count": 21,
     "metadata": {},
     "output_type": "execute_result"
    }
   ],
   "source": [
    "# Feature Importance from Tree Model\n",
    "feat_import_df = pd.DataFrame({'feature': dtr.feature_names_in_,\n",
    "                               'importance': dtr.feature_importances_}) \\\n",
    "    .sort_values('importance', ascending=False)\n",
    "\n",
    "feat_import_df.head(10)"
   ]
  },
  {
   "cell_type": "code",
   "execution_count": 22,
   "id": "611b1ea4",
   "metadata": {},
   "outputs": [
    {
     "name": "stdout",
     "output_type": "stream",
     "text": [
      "The top 5 highest feature importance columns are 'exclusive_use_area', 'city', 'total_parking_capacity_in_site', 'transaction_year', 'heat_type_district'\n",
      "Their performance are shown as follows:\n",
      "\n",
      "---------- LinearRegression ----------\n",
      "Rooted-MSE: 2.097e+08\n",
      "MAE: 1.328e+08\n",
      "Adjusted R-Squared: 0.5790\n",
      "\n",
      "---------- Ridge ----------\n",
      "Rooted-MSE: 2.097e+08\n",
      "MAE: 1.328e+08\n",
      "Adjusted R-Squared: 0.5790\n",
      "\n",
      "---------- DecisionTreeRegressor ----------\n",
      "Rooted-MSE: 1.412e+08\n",
      "MAE: 8.555e+07\n",
      "Adjusted R-Squared: 0.8090\n",
      "\n",
      "---------- MLPRegressor ----------\n",
      "Rooted-MSE: 1.99e+08\n",
      "MAE: 1.251e+08\n",
      "Adjusted R-Squared: 0.6207\n",
      "\n",
      "---------- KNeighborsRegressor ----------\n",
      "Rooted-MSE: 7.818e+07\n",
      "MAE: 3.441e+07\n",
      "Adjusted R-Squared: 0.9415\n",
      "\n"
     ]
    }
   ],
   "source": [
    "# Top 5 highest feature importance columns\n",
    "top_5_cols = feat_import_df[\"feature\"].tolist()[:5]\n",
    "X_train_5cols = X_train[top_5_cols]\n",
    "X_test_5cols = X_test[top_5_cols]\n",
    "\n",
    "print(f\"The top 5 highest feature importance columns are {str(top_5_cols)[1:-1]}\")\n",
    "print(\"Their performance are shown as follows:\\n\")\n",
    "\n",
    "regressors = lambda model: [\n",
    "    LinearRegression(),\n",
    "    Ridge(alpha=100, random_state=2024),\n",
    "    DecisionTreeRegressor(max_depth=10, random_state=2024),\n",
    "    MLPRegressor(hidden_layer_sizes=(20,10,5,10,5), max_iter=20),\n",
    "    KNeighborsRegressor(p=1)\n",
    "]\n",
    "\n",
    "predict_with_regressors(regressors, X_train_5cols, X_test_5cols, y_train, y_test)"
   ]
  },
  {
   "cell_type": "code",
   "execution_count": 23,
   "id": "3f51bf10",
   "metadata": {},
   "outputs": [
    {
     "name": "stdout",
     "output_type": "stream",
     "text": [
      "The top 2 highest feature importance columns are 'exclusive_use_area', 'city'\n",
      "Their performance are shown as follows:\n",
      "\n",
      "---------- LinearRegression ----------\n",
      "Rooted-MSE: 2.356e+08\n",
      "MAE: 1.535e+08\n",
      "Adjusted R-Squared: 0.4685\n",
      "\n",
      "---------- Ridge ----------\n",
      "Rooted-MSE: 2.356e+08\n",
      "MAE: 1.535e+08\n",
      "Adjusted R-Squared: 0.4685\n",
      "\n",
      "---------- DecisionTreeRegressor ----------\n",
      "Rooted-MSE: 1.887e+08\n",
      "MAE: 1.181e+08\n",
      "Adjusted R-Squared: 0.6589\n",
      "\n",
      "---------- MLPRegressor ----------\n",
      "Rooted-MSE: 2.219e+08\n",
      "MAE: 1.41e+08\n",
      "Adjusted R-Squared: 0.5285\n",
      "\n",
      "---------- KNeighborsRegressor ----------\n",
      "Rooted-MSE: 1.577e+08\n",
      "MAE: 9.784e+07\n",
      "Adjusted R-Squared: 0.7617\n",
      "\n"
     ]
    }
   ],
   "source": [
    "# Top 2 highest feature importance columns\n",
    "top_2_cols = feat_import_df[\"feature\"].tolist()[:2]\n",
    "X_train_2cols = X_train[top_2_cols]\n",
    "X_test_2cols = X_test[top_2_cols]\n",
    "\n",
    "print(f\"The top 2 highest feature importance columns are {str(top_2_cols)[1:-1]}\")\n",
    "print(\"Their performance are shown as follows:\\n\")\n",
    "predict_with_regressors(regressors, X_train_2cols, X_test_2cols, y_train, y_test)"
   ]
  },
  {
   "cell_type": "markdown",
   "id": "52afa979",
   "metadata": {},
   "source": [
    "## Dimensionality reduction"
   ]
  },
  {
   "cell_type": "markdown",
   "id": "ebb40c95",
   "metadata": {},
   "source": [
    "**Principle Component Analysis**"
   ]
  },
  {
   "cell_type": "code",
   "execution_count": 25,
   "id": "cb29532b",
   "metadata": {},
   "outputs": [],
   "source": [
    "pca = PCA(n_components=5)\n",
    "pca.fit(X_all)\n",
    "\n",
    "X_train_pca = pca.transform(X_train)\n",
    "X_test_pca = pca.transform(X_test)"
   ]
  },
  {
   "cell_type": "code",
   "execution_count": 26,
   "id": "aa81426d",
   "metadata": {},
   "outputs": [
    {
     "name": "stdout",
     "output_type": "stream",
     "text": [
      "---------- LinearRegression ----------\n",
      "Rooted-MSE: 3.032e+08\n",
      "MAE: 1.994e+08\n",
      "Adjusted R-Squared: 0.1196\n",
      "\n",
      "---------- Ridge ----------\n",
      "Rooted-MSE: 3.032e+08\n",
      "MAE: 1.994e+08\n",
      "Adjusted R-Squared: 0.1196\n",
      "\n",
      "---------- DecisionTreeRegressor ----------\n",
      "Rooted-MSE: 2.38e+08\n",
      "MAE: 1.599e+08\n",
      "Adjusted R-Squared: 0.4575\n",
      "\n",
      "---------- MLPRegressor ----------\n",
      "Rooted-MSE: 2.826e+08\n",
      "MAE: 1.854e+08\n",
      "Adjusted R-Squared: 0.2350\n",
      "\n",
      "---------- KNeighborsRegressor ----------\n",
      "Rooted-MSE: 1.688e+08\n",
      "MAE: 9.002e+07\n",
      "Adjusted R-Squared: 0.7271\n",
      "\n"
     ]
    }
   ],
   "source": [
    "predict_with_regressors(regressors, X_train_pca, X_test_pca, y_train, y_test)"
   ]
  },
  {
   "cell_type": "markdown",
   "id": "e5b69145",
   "metadata": {},
   "source": [
    "All the regressors has poor performance compare to the before.  "
   ]
  },
  {
   "cell_type": "markdown",
   "id": "5ae233f0",
   "metadata": {},
   "source": [
    "**Partial Least Square Regression**"
   ]
  },
  {
   "cell_type": "code",
   "execution_count": 28,
   "id": "7a43d4b3",
   "metadata": {},
   "outputs": [],
   "source": [
    "# Create an instance of PLS with the desired number of components\n",
    "pls = PLSRegression(n_components=5)\n",
    "\n",
    "pls.fit(X_all, y_all)\n",
    "\n",
    "X_train_pls = pca.transform(X_train)\n",
    "X_test_pls = pca.transform(X_test)"
   ]
  },
  {
   "cell_type": "code",
   "execution_count": 29,
   "id": "15b4201e",
   "metadata": {},
   "outputs": [
    {
     "name": "stdout",
     "output_type": "stream",
     "text": [
      "---------- LinearRegression ----------\n",
      "Rooted-MSE: 3.032e+08\n",
      "MAE: 1.994e+08\n",
      "Adjusted R-Squared: 0.1196\n",
      "\n",
      "---------- Ridge ----------\n",
      "Rooted-MSE: 3.032e+08\n",
      "MAE: 1.994e+08\n",
      "Adjusted R-Squared: 0.1196\n",
      "\n",
      "---------- DecisionTreeRegressor ----------\n",
      "Rooted-MSE: 2.38e+08\n",
      "MAE: 1.599e+08\n",
      "Adjusted R-Squared: 0.4575\n",
      "\n",
      "---------- MLPRegressor ----------\n",
      "Rooted-MSE: 2.787e+08\n",
      "MAE: 1.843e+08\n",
      "Adjusted R-Squared: 0.2563\n",
      "\n",
      "---------- KNeighborsRegressor ----------\n",
      "Rooted-MSE: 1.688e+08\n",
      "MAE: 9.002e+07\n",
      "Adjusted R-Squared: 0.7271\n",
      "\n"
     ]
    }
   ],
   "source": [
    "predict_with_regressors(regressors, X_train_pls, X_test_pls, y_train, y_test)"
   ]
  },
  {
   "cell_type": "markdown",
   "id": "f27e7e8c",
   "metadata": {},
   "source": [
    "All the regressors has poor performance compare to the before.  "
   ]
  }
 ],
 "metadata": {
  "kernelspec": {
   "display_name": "Python 3 (ipykernel)",
   "language": "python",
   "name": "python3"
  },
  "language_info": {
   "codemirror_mode": {
    "name": "ipython",
    "version": 3
   },
   "file_extension": ".py",
   "mimetype": "text/x-python",
   "name": "python",
   "nbconvert_exporter": "python",
   "pygments_lexer": "ipython3",
   "version": "3.11.4"
  }
 },
 "nbformat": 4,
 "nbformat_minor": 5
}
